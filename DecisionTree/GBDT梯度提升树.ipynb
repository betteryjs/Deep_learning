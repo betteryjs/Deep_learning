{
 "cells": [
  {
   "cell_type": "code",
   "execution_count": 26,
   "metadata": {},
   "outputs": [],
   "source": [
    "import numpy as np\n",
    "import graphviz\n",
    "from sklearn.ensemble import GradientBoostingRegressor\n",
    "from pandas import Series,DataFrame\n",
    "from sklearn import tree\n",
    "import graphviz\n",
    "import os\n",
    "os.environ[\"PATH\"] += os.pathsep + 'D:/Application/Graphviz/bin/'"
   ]
  },
  {
   "cell_type": "code",
   "execution_count": 5,
   "metadata": {},
   "outputs": [],
   "source": [
    "X=DataFrame({\"购物金额\":[500,600,1000,1500],\"是否回答问题\":[0,1,0,1]})\n",
    "y=Series([14,16,24,26])"
   ]
  },
  {
   "cell_type": "code",
   "execution_count": 48,
   "metadata": {},
   "outputs": [
    {
     "data": {
      "text/plain": [
       "GradientBoostingRegressor()"
      ]
     },
     "execution_count": 48,
     "metadata": {},
     "output_type": "execute_result"
    }
   ],
   "source": [
    "# learning_rate 梯度下降比率\n",
    "gdbt=GradientBoostingRegressor(n_estimators=100,learning_rate=0.1)\n",
    "gdbt.fit(X,y)"
   ]
  },
  {
   "cell_type": "code",
   "execution_count": 17,
   "metadata": {},
   "outputs": [
    {
     "data": {
      "text/plain": [
       "array([14.00015937, 16.00010625, 23.99989375, 25.99984063])"
      ]
     },
     "execution_count": 17,
     "metadata": {},
     "output_type": "execute_result"
    }
   ],
   "source": [
    "gdbt.predict(X)"
   ]
  },
  {
   "cell_type": "code",
   "execution_count": 36,
   "metadata": {},
   "outputs": [
    {
     "data": {
      "text/plain": [
       "array([[DecisionTreeRegressor(criterion='friedman_mse', max_depth=3,\n",
       "                              random_state=RandomState(MT19937) at 0x277F7074140)],\n",
       "       [DecisionTreeRegressor(criterion='friedman_mse', max_depth=3,\n",
       "                              random_state=RandomState(MT19937) at 0x277F7074140)],\n",
       "       [DecisionTreeRegressor(criterion='friedman_mse', max_depth=3,\n",
       "                              random_state=RandomState(MT19937) at 0x277F7074140)],\n",
       "       [DecisionTreeRegressor(criterion='friedman_mse', max_depth=3,\n",
       "                              random_state=RandomState(MT19937) at 0x277F7074140)],\n",
       "       [DecisionTreeRegressor(criterion='friedman_mse', max_depth=3,\n",
       "                              random_state=RandomState(MT19937) at 0x277F7074140)],\n",
       "       [DecisionTreeRegressor(criterion='friedman_mse', max_depth=3,\n",
       "                              random_state=RandomState(MT19937) at 0x277F7074140)],\n",
       "       [DecisionTreeRegressor(criterion='friedman_mse', max_depth=3,\n",
       "                              random_state=RandomState(MT19937) at 0x277F7074140)],\n",
       "       [DecisionTreeRegressor(criterion='friedman_mse', max_depth=3,\n",
       "                              random_state=RandomState(MT19937) at 0x277F7074140)],\n",
       "       [DecisionTreeRegressor(criterion='friedman_mse', max_depth=3,\n",
       "                              random_state=RandomState(MT19937) at 0x277F7074140)],\n",
       "       [DecisionTreeRegressor(criterion='friedman_mse', max_depth=3,\n",
       "                              random_state=RandomState(MT19937) at 0x277F7074140)],\n",
       "       [DecisionTreeRegressor(criterion='friedman_mse', max_depth=3,\n",
       "                              random_state=RandomState(MT19937) at 0x277F7074140)],\n",
       "       [DecisionTreeRegressor(criterion='friedman_mse', max_depth=3,\n",
       "                              random_state=RandomState(MT19937) at 0x277F7074140)],\n",
       "       [DecisionTreeRegressor(criterion='friedman_mse', max_depth=3,\n",
       "                              random_state=RandomState(MT19937) at 0x277F7074140)],\n",
       "       [DecisionTreeRegressor(criterion='friedman_mse', max_depth=3,\n",
       "                              random_state=RandomState(MT19937) at 0x277F7074140)],\n",
       "       [DecisionTreeRegressor(criterion='friedman_mse', max_depth=3,\n",
       "                              random_state=RandomState(MT19937) at 0x277F7074140)],\n",
       "       [DecisionTreeRegressor(criterion='friedman_mse', max_depth=3,\n",
       "                              random_state=RandomState(MT19937) at 0x277F7074140)],\n",
       "       [DecisionTreeRegressor(criterion='friedman_mse', max_depth=3,\n",
       "                              random_state=RandomState(MT19937) at 0x277F7074140)],\n",
       "       [DecisionTreeRegressor(criterion='friedman_mse', max_depth=3,\n",
       "                              random_state=RandomState(MT19937) at 0x277F7074140)],\n",
       "       [DecisionTreeRegressor(criterion='friedman_mse', max_depth=3,\n",
       "                              random_state=RandomState(MT19937) at 0x277F7074140)],\n",
       "       [DecisionTreeRegressor(criterion='friedman_mse', max_depth=3,\n",
       "                              random_state=RandomState(MT19937) at 0x277F7074140)],\n",
       "       [DecisionTreeRegressor(criterion='friedman_mse', max_depth=3,\n",
       "                              random_state=RandomState(MT19937) at 0x277F7074140)],\n",
       "       [DecisionTreeRegressor(criterion='friedman_mse', max_depth=3,\n",
       "                              random_state=RandomState(MT19937) at 0x277F7074140)],\n",
       "       [DecisionTreeRegressor(criterion='friedman_mse', max_depth=3,\n",
       "                              random_state=RandomState(MT19937) at 0x277F7074140)],\n",
       "       [DecisionTreeRegressor(criterion='friedman_mse', max_depth=3,\n",
       "                              random_state=RandomState(MT19937) at 0x277F7074140)],\n",
       "       [DecisionTreeRegressor(criterion='friedman_mse', max_depth=3,\n",
       "                              random_state=RandomState(MT19937) at 0x277F7074140)],\n",
       "       [DecisionTreeRegressor(criterion='friedman_mse', max_depth=3,\n",
       "                              random_state=RandomState(MT19937) at 0x277F7074140)],\n",
       "       [DecisionTreeRegressor(criterion='friedman_mse', max_depth=3,\n",
       "                              random_state=RandomState(MT19937) at 0x277F7074140)],\n",
       "       [DecisionTreeRegressor(criterion='friedman_mse', max_depth=3,\n",
       "                              random_state=RandomState(MT19937) at 0x277F7074140)],\n",
       "       [DecisionTreeRegressor(criterion='friedman_mse', max_depth=3,\n",
       "                              random_state=RandomState(MT19937) at 0x277F7074140)],\n",
       "       [DecisionTreeRegressor(criterion='friedman_mse', max_depth=3,\n",
       "                              random_state=RandomState(MT19937) at 0x277F7074140)],\n",
       "       [DecisionTreeRegressor(criterion='friedman_mse', max_depth=3,\n",
       "                              random_state=RandomState(MT19937) at 0x277F7074140)],\n",
       "       [DecisionTreeRegressor(criterion='friedman_mse', max_depth=3,\n",
       "                              random_state=RandomState(MT19937) at 0x277F7074140)],\n",
       "       [DecisionTreeRegressor(criterion='friedman_mse', max_depth=3,\n",
       "                              random_state=RandomState(MT19937) at 0x277F7074140)],\n",
       "       [DecisionTreeRegressor(criterion='friedman_mse', max_depth=3,\n",
       "                              random_state=RandomState(MT19937) at 0x277F7074140)],\n",
       "       [DecisionTreeRegressor(criterion='friedman_mse', max_depth=3,\n",
       "                              random_state=RandomState(MT19937) at 0x277F7074140)],\n",
       "       [DecisionTreeRegressor(criterion='friedman_mse', max_depth=3,\n",
       "                              random_state=RandomState(MT19937) at 0x277F7074140)],\n",
       "       [DecisionTreeRegressor(criterion='friedman_mse', max_depth=3,\n",
       "                              random_state=RandomState(MT19937) at 0x277F7074140)],\n",
       "       [DecisionTreeRegressor(criterion='friedman_mse', max_depth=3,\n",
       "                              random_state=RandomState(MT19937) at 0x277F7074140)],\n",
       "       [DecisionTreeRegressor(criterion='friedman_mse', max_depth=3,\n",
       "                              random_state=RandomState(MT19937) at 0x277F7074140)],\n",
       "       [DecisionTreeRegressor(criterion='friedman_mse', max_depth=3,\n",
       "                              random_state=RandomState(MT19937) at 0x277F7074140)],\n",
       "       [DecisionTreeRegressor(criterion='friedman_mse', max_depth=3,\n",
       "                              random_state=RandomState(MT19937) at 0x277F7074140)],\n",
       "       [DecisionTreeRegressor(criterion='friedman_mse', max_depth=3,\n",
       "                              random_state=RandomState(MT19937) at 0x277F7074140)],\n",
       "       [DecisionTreeRegressor(criterion='friedman_mse', max_depth=3,\n",
       "                              random_state=RandomState(MT19937) at 0x277F7074140)],\n",
       "       [DecisionTreeRegressor(criterion='friedman_mse', max_depth=3,\n",
       "                              random_state=RandomState(MT19937) at 0x277F7074140)],\n",
       "       [DecisionTreeRegressor(criterion='friedman_mse', max_depth=3,\n",
       "                              random_state=RandomState(MT19937) at 0x277F7074140)],\n",
       "       [DecisionTreeRegressor(criterion='friedman_mse', max_depth=3,\n",
       "                              random_state=RandomState(MT19937) at 0x277F7074140)],\n",
       "       [DecisionTreeRegressor(criterion='friedman_mse', max_depth=3,\n",
       "                              random_state=RandomState(MT19937) at 0x277F7074140)],\n",
       "       [DecisionTreeRegressor(criterion='friedman_mse', max_depth=3,\n",
       "                              random_state=RandomState(MT19937) at 0x277F7074140)],\n",
       "       [DecisionTreeRegressor(criterion='friedman_mse', max_depth=3,\n",
       "                              random_state=RandomState(MT19937) at 0x277F7074140)],\n",
       "       [DecisionTreeRegressor(criterion='friedman_mse', max_depth=3,\n",
       "                              random_state=RandomState(MT19937) at 0x277F7074140)],\n",
       "       [DecisionTreeRegressor(criterion='friedman_mse', max_depth=3,\n",
       "                              random_state=RandomState(MT19937) at 0x277F7074140)],\n",
       "       [DecisionTreeRegressor(criterion='friedman_mse', max_depth=3,\n",
       "                              random_state=RandomState(MT19937) at 0x277F7074140)],\n",
       "       [DecisionTreeRegressor(criterion='friedman_mse', max_depth=3,\n",
       "                              random_state=RandomState(MT19937) at 0x277F7074140)],\n",
       "       [DecisionTreeRegressor(criterion='friedman_mse', max_depth=3,\n",
       "                              random_state=RandomState(MT19937) at 0x277F7074140)],\n",
       "       [DecisionTreeRegressor(criterion='friedman_mse', max_depth=3,\n",
       "                              random_state=RandomState(MT19937) at 0x277F7074140)],\n",
       "       [DecisionTreeRegressor(criterion='friedman_mse', max_depth=3,\n",
       "                              random_state=RandomState(MT19937) at 0x277F7074140)],\n",
       "       [DecisionTreeRegressor(criterion='friedman_mse', max_depth=3,\n",
       "                              random_state=RandomState(MT19937) at 0x277F7074140)],\n",
       "       [DecisionTreeRegressor(criterion='friedman_mse', max_depth=3,\n",
       "                              random_state=RandomState(MT19937) at 0x277F7074140)],\n",
       "       [DecisionTreeRegressor(criterion='friedman_mse', max_depth=3,\n",
       "                              random_state=RandomState(MT19937) at 0x277F7074140)],\n",
       "       [DecisionTreeRegressor(criterion='friedman_mse', max_depth=3,\n",
       "                              random_state=RandomState(MT19937) at 0x277F7074140)],\n",
       "       [DecisionTreeRegressor(criterion='friedman_mse', max_depth=3,\n",
       "                              random_state=RandomState(MT19937) at 0x277F7074140)],\n",
       "       [DecisionTreeRegressor(criterion='friedman_mse', max_depth=3,\n",
       "                              random_state=RandomState(MT19937) at 0x277F7074140)],\n",
       "       [DecisionTreeRegressor(criterion='friedman_mse', max_depth=3,\n",
       "                              random_state=RandomState(MT19937) at 0x277F7074140)],\n",
       "       [DecisionTreeRegressor(criterion='friedman_mse', max_depth=3,\n",
       "                              random_state=RandomState(MT19937) at 0x277F7074140)],\n",
       "       [DecisionTreeRegressor(criterion='friedman_mse', max_depth=3,\n",
       "                              random_state=RandomState(MT19937) at 0x277F7074140)],\n",
       "       [DecisionTreeRegressor(criterion='friedman_mse', max_depth=3,\n",
       "                              random_state=RandomState(MT19937) at 0x277F7074140)],\n",
       "       [DecisionTreeRegressor(criterion='friedman_mse', max_depth=3,\n",
       "                              random_state=RandomState(MT19937) at 0x277F7074140)],\n",
       "       [DecisionTreeRegressor(criterion='friedman_mse', max_depth=3,\n",
       "                              random_state=RandomState(MT19937) at 0x277F7074140)],\n",
       "       [DecisionTreeRegressor(criterion='friedman_mse', max_depth=3,\n",
       "                              random_state=RandomState(MT19937) at 0x277F7074140)],\n",
       "       [DecisionTreeRegressor(criterion='friedman_mse', max_depth=3,\n",
       "                              random_state=RandomState(MT19937) at 0x277F7074140)],\n",
       "       [DecisionTreeRegressor(criterion='friedman_mse', max_depth=3,\n",
       "                              random_state=RandomState(MT19937) at 0x277F7074140)],\n",
       "       [DecisionTreeRegressor(criterion='friedman_mse', max_depth=3,\n",
       "                              random_state=RandomState(MT19937) at 0x277F7074140)],\n",
       "       [DecisionTreeRegressor(criterion='friedman_mse', max_depth=3,\n",
       "                              random_state=RandomState(MT19937) at 0x277F7074140)],\n",
       "       [DecisionTreeRegressor(criterion='friedman_mse', max_depth=3,\n",
       "                              random_state=RandomState(MT19937) at 0x277F7074140)],\n",
       "       [DecisionTreeRegressor(criterion='friedman_mse', max_depth=3,\n",
       "                              random_state=RandomState(MT19937) at 0x277F7074140)],\n",
       "       [DecisionTreeRegressor(criterion='friedman_mse', max_depth=3,\n",
       "                              random_state=RandomState(MT19937) at 0x277F7074140)],\n",
       "       [DecisionTreeRegressor(criterion='friedman_mse', max_depth=3,\n",
       "                              random_state=RandomState(MT19937) at 0x277F7074140)],\n",
       "       [DecisionTreeRegressor(criterion='friedman_mse', max_depth=3,\n",
       "                              random_state=RandomState(MT19937) at 0x277F7074140)],\n",
       "       [DecisionTreeRegressor(criterion='friedman_mse', max_depth=3,\n",
       "                              random_state=RandomState(MT19937) at 0x277F7074140)],\n",
       "       [DecisionTreeRegressor(criterion='friedman_mse', max_depth=3,\n",
       "                              random_state=RandomState(MT19937) at 0x277F7074140)],\n",
       "       [DecisionTreeRegressor(criterion='friedman_mse', max_depth=3,\n",
       "                              random_state=RandomState(MT19937) at 0x277F7074140)],\n",
       "       [DecisionTreeRegressor(criterion='friedman_mse', max_depth=3,\n",
       "                              random_state=RandomState(MT19937) at 0x277F7074140)],\n",
       "       [DecisionTreeRegressor(criterion='friedman_mse', max_depth=3,\n",
       "                              random_state=RandomState(MT19937) at 0x277F7074140)],\n",
       "       [DecisionTreeRegressor(criterion='friedman_mse', max_depth=3,\n",
       "                              random_state=RandomState(MT19937) at 0x277F7074140)],\n",
       "       [DecisionTreeRegressor(criterion='friedman_mse', max_depth=3,\n",
       "                              random_state=RandomState(MT19937) at 0x277F7074140)],\n",
       "       [DecisionTreeRegressor(criterion='friedman_mse', max_depth=3,\n",
       "                              random_state=RandomState(MT19937) at 0x277F7074140)],\n",
       "       [DecisionTreeRegressor(criterion='friedman_mse', max_depth=3,\n",
       "                              random_state=RandomState(MT19937) at 0x277F7074140)],\n",
       "       [DecisionTreeRegressor(criterion='friedman_mse', max_depth=3,\n",
       "                              random_state=RandomState(MT19937) at 0x277F7074140)],\n",
       "       [DecisionTreeRegressor(criterion='friedman_mse', max_depth=3,\n",
       "                              random_state=RandomState(MT19937) at 0x277F7074140)],\n",
       "       [DecisionTreeRegressor(criterion='friedman_mse', max_depth=3,\n",
       "                              random_state=RandomState(MT19937) at 0x277F7074140)],\n",
       "       [DecisionTreeRegressor(criterion='friedman_mse', max_depth=3,\n",
       "                              random_state=RandomState(MT19937) at 0x277F7074140)],\n",
       "       [DecisionTreeRegressor(criterion='friedman_mse', max_depth=3,\n",
       "                              random_state=RandomState(MT19937) at 0x277F7074140)],\n",
       "       [DecisionTreeRegressor(criterion='friedman_mse', max_depth=3,\n",
       "                              random_state=RandomState(MT19937) at 0x277F7074140)],\n",
       "       [DecisionTreeRegressor(criterion='friedman_mse', max_depth=3,\n",
       "                              random_state=RandomState(MT19937) at 0x277F7074140)],\n",
       "       [DecisionTreeRegressor(criterion='friedman_mse', max_depth=3,\n",
       "                              random_state=RandomState(MT19937) at 0x277F7074140)],\n",
       "       [DecisionTreeRegressor(criterion='friedman_mse', max_depth=3,\n",
       "                              random_state=RandomState(MT19937) at 0x277F7074140)],\n",
       "       [DecisionTreeRegressor(criterion='friedman_mse', max_depth=3,\n",
       "                              random_state=RandomState(MT19937) at 0x277F7074140)],\n",
       "       [DecisionTreeRegressor(criterion='friedman_mse', max_depth=3,\n",
       "                              random_state=RandomState(MT19937) at 0x277F7074140)],\n",
       "       [DecisionTreeRegressor(criterion='friedman_mse', max_depth=3,\n",
       "                              random_state=RandomState(MT19937) at 0x277F7074140)],\n",
       "       [DecisionTreeRegressor(criterion='friedman_mse', max_depth=3,\n",
       "                              random_state=RandomState(MT19937) at 0x277F7074140)]],\n",
       "      dtype=object)"
      ]
     },
     "execution_count": 36,
     "metadata": {},
     "output_type": "execute_result"
    }
   ],
   "source": [
    "gdbt.estimators_"
   ]
  },
  {
   "cell_type": "code",
   "execution_count": 45,
   "metadata": {},
   "outputs": [
    {
     "data": {
      "text/plain": [
       "array([-6., -4.,  4.,  6.])"
      ]
     },
     "execution_count": 45,
     "metadata": {},
     "output_type": "execute_result"
    }
   ],
   "source": [
    "\n",
    "# 残差\n",
    "y0_=gdbt.estimators_[0][0].predict(X)\n",
    "y0_"
   ]
  },
  {
   "cell_type": "code",
   "execution_count": 46,
   "metadata": {},
   "outputs": [
    {
     "data": {
      "text/plain": [
       "array([-5.4, -3.6,  3.6,  5.4])"
      ]
     },
     "execution_count": 46,
     "metadata": {},
     "output_type": "execute_result"
    }
   ],
   "source": [
    "y0_-0.1*y0_"
   ]
  },
  {
   "cell_type": "code",
   "execution_count": 42,
   "metadata": {},
   "outputs": [
    {
     "data": {
      "image/svg+xml": [
       "<?xml version=\"1.0\" encoding=\"UTF-8\" standalone=\"no\"?>\r\n",
       "<!DOCTYPE svg PUBLIC \"-//W3C//DTD SVG 1.1//EN\"\r\n",
       " \"http://www.w3.org/Graphics/SVG/1.1/DTD/svg11.dtd\">\r\n",
       "<!-- Generated by graphviz version 2.48.0 (20210717.1556)\r\n",
       " -->\r\n",
       "<!-- Title: Tree Pages: 1 -->\r\n",
       "<svg width=\"582pt\" height=\"269pt\"\r\n",
       " viewBox=\"0.00 0.00 582.00 269.00\" xmlns=\"http://www.w3.org/2000/svg\" xmlns:xlink=\"http://www.w3.org/1999/xlink\">\r\n",
       "<g id=\"graph0\" class=\"graph\" transform=\"scale(1 1) rotate(0) translate(4 265)\">\r\n",
       "<title>Tree</title>\r\n",
       "<polygon fill=\"white\" stroke=\"transparent\" points=\"-4,4 -4,-265 578,-265 578,4 -4,4\"/>\r\n",
       "<!-- 0 -->\r\n",
       "<g id=\"node1\" class=\"node\">\r\n",
       "<title>0</title>\r\n",
       "<polygon fill=\"#f2c09c\" stroke=\"black\" points=\"357,-261 217,-261 217,-193 357,-193 357,-261\"/>\r\n",
       "<text text-anchor=\"middle\" x=\"287\" y=\"-245.8\" font-family=\"Times New Roman,serif\" font-size=\"14.00\">购物金额 &lt;= 800.0</text>\r\n",
       "<text text-anchor=\"middle\" x=\"287\" y=\"-230.8\" font-family=\"Times New Roman,serif\" font-size=\"14.00\">friedman_mse = 26.0</text>\r\n",
       "<text text-anchor=\"middle\" x=\"287\" y=\"-215.8\" font-family=\"Times New Roman,serif\" font-size=\"14.00\">samples = 4</text>\r\n",
       "<text text-anchor=\"middle\" x=\"287\" y=\"-200.8\" font-family=\"Times New Roman,serif\" font-size=\"14.00\">value = 0.0</text>\r\n",
       "</g>\r\n",
       "<!-- 1 -->\r\n",
       "<g id=\"node2\" class=\"node\">\r\n",
       "<title>1</title>\r\n",
       "<polygon fill=\"#fdf4ee\" stroke=\"black\" points=\"276,-157 136,-157 136,-89 276,-89 276,-157\"/>\r\n",
       "<text text-anchor=\"middle\" x=\"206\" y=\"-141.8\" font-family=\"Times New Roman,serif\" font-size=\"14.00\">购物金额 &lt;= 550.0</text>\r\n",
       "<text text-anchor=\"middle\" x=\"206\" y=\"-126.8\" font-family=\"Times New Roman,serif\" font-size=\"14.00\">friedman_mse = 1.0</text>\r\n",
       "<text text-anchor=\"middle\" x=\"206\" y=\"-111.8\" font-family=\"Times New Roman,serif\" font-size=\"14.00\">samples = 2</text>\r\n",
       "<text text-anchor=\"middle\" x=\"206\" y=\"-96.8\" font-family=\"Times New Roman,serif\" font-size=\"14.00\">value = &#45;5.0</text>\r\n",
       "</g>\r\n",
       "<!-- 0&#45;&gt;1 -->\r\n",
       "<g id=\"edge1\" class=\"edge\">\r\n",
       "<title>0&#45;&gt;1</title>\r\n",
       "<path fill=\"none\" stroke=\"black\" d=\"M260.7,-192.88C253.7,-184.07 246.05,-174.43 238.75,-165.24\"/>\r\n",
       "<polygon fill=\"black\" stroke=\"black\" points=\"241.4,-162.95 232.44,-157.3 235.92,-167.31 241.4,-162.95\"/>\r\n",
       "<text text-anchor=\"middle\" x=\"229.59\" y=\"-178.44\" font-family=\"Times New Roman,serif\" font-size=\"14.00\">True</text>\r\n",
       "</g>\r\n",
       "<!-- 4 -->\r\n",
       "<g id=\"node5\" class=\"node\">\r\n",
       "<title>4</title>\r\n",
       "<polygon fill=\"#e78c4a\" stroke=\"black\" points=\"441.5,-157 294.5,-157 294.5,-89 441.5,-89 441.5,-157\"/>\r\n",
       "<text text-anchor=\"middle\" x=\"368\" y=\"-141.8\" font-family=\"Times New Roman,serif\" font-size=\"14.00\">购物金额 &lt;= 1250.0</text>\r\n",
       "<text text-anchor=\"middle\" x=\"368\" y=\"-126.8\" font-family=\"Times New Roman,serif\" font-size=\"14.00\">friedman_mse = 1.0</text>\r\n",
       "<text text-anchor=\"middle\" x=\"368\" y=\"-111.8\" font-family=\"Times New Roman,serif\" font-size=\"14.00\">samples = 2</text>\r\n",
       "<text text-anchor=\"middle\" x=\"368\" y=\"-96.8\" font-family=\"Times New Roman,serif\" font-size=\"14.00\">value = 5.0</text>\r\n",
       "</g>\r\n",
       "<!-- 0&#45;&gt;4 -->\r\n",
       "<g id=\"edge4\" class=\"edge\">\r\n",
       "<title>0&#45;&gt;4</title>\r\n",
       "<path fill=\"none\" stroke=\"black\" d=\"M313.3,-192.88C320.3,-184.07 327.95,-174.43 335.25,-165.24\"/>\r\n",
       "<polygon fill=\"black\" stroke=\"black\" points=\"338.08,-167.31 341.56,-157.3 332.6,-162.95 338.08,-167.31\"/>\r\n",
       "<text text-anchor=\"middle\" x=\"344.41\" y=\"-178.44\" font-family=\"Times New Roman,serif\" font-size=\"14.00\">False</text>\r\n",
       "</g>\r\n",
       "<!-- 2 -->\r\n",
       "<g id=\"node3\" class=\"node\">\r\n",
       "<title>2</title>\r\n",
       "<polygon fill=\"#ffffff\" stroke=\"black\" points=\"128,-53 0,-53 0,0 128,0 128,-53\"/>\r\n",
       "<text text-anchor=\"middle\" x=\"64\" y=\"-37.8\" font-family=\"Times New Roman,serif\" font-size=\"14.00\">friedman_mse = 0.0</text>\r\n",
       "<text text-anchor=\"middle\" x=\"64\" y=\"-22.8\" font-family=\"Times New Roman,serif\" font-size=\"14.00\">samples = 1</text>\r\n",
       "<text text-anchor=\"middle\" x=\"64\" y=\"-7.8\" font-family=\"Times New Roman,serif\" font-size=\"14.00\">value = &#45;6.0</text>\r\n",
       "</g>\r\n",
       "<!-- 1&#45;&gt;2 -->\r\n",
       "<g id=\"edge2\" class=\"edge\">\r\n",
       "<title>1&#45;&gt;2</title>\r\n",
       "<path fill=\"none\" stroke=\"black\" d=\"M156.34,-88.95C141.63,-79.16 125.57,-68.48 111.04,-58.8\"/>\r\n",
       "<polygon fill=\"black\" stroke=\"black\" points=\"112.94,-55.86 102.67,-53.24 109.06,-61.69 112.94,-55.86\"/>\r\n",
       "</g>\r\n",
       "<!-- 3 -->\r\n",
       "<g id=\"node4\" class=\"node\">\r\n",
       "<title>3</title>\r\n",
       "<polygon fill=\"#fbeade\" stroke=\"black\" points=\"274,-53 146,-53 146,0 274,0 274,-53\"/>\r\n",
       "<text text-anchor=\"middle\" x=\"210\" y=\"-37.8\" font-family=\"Times New Roman,serif\" font-size=\"14.00\">friedman_mse = 0.0</text>\r\n",
       "<text text-anchor=\"middle\" x=\"210\" y=\"-22.8\" font-family=\"Times New Roman,serif\" font-size=\"14.00\">samples = 1</text>\r\n",
       "<text text-anchor=\"middle\" x=\"210\" y=\"-7.8\" font-family=\"Times New Roman,serif\" font-size=\"14.00\">value = &#45;4.0</text>\r\n",
       "</g>\r\n",
       "<!-- 1&#45;&gt;3 -->\r\n",
       "<g id=\"edge3\" class=\"edge\">\r\n",
       "<title>1&#45;&gt;3</title>\r\n",
       "<path fill=\"none\" stroke=\"black\" d=\"M207.4,-88.95C207.75,-80.72 208.12,-71.85 208.48,-63.48\"/>\r\n",
       "<polygon fill=\"black\" stroke=\"black\" points=\"211.98,-63.38 208.91,-53.24 204.99,-63.08 211.98,-63.38\"/>\r\n",
       "</g>\r\n",
       "<!-- 5 -->\r\n",
       "<g id=\"node6\" class=\"node\">\r\n",
       "<title>5</title>\r\n",
       "<polygon fill=\"#e9965a\" stroke=\"black\" points=\"428,-53 300,-53 300,0 428,0 428,-53\"/>\r\n",
       "<text text-anchor=\"middle\" x=\"364\" y=\"-37.8\" font-family=\"Times New Roman,serif\" font-size=\"14.00\">friedman_mse = 0.0</text>\r\n",
       "<text text-anchor=\"middle\" x=\"364\" y=\"-22.8\" font-family=\"Times New Roman,serif\" font-size=\"14.00\">samples = 1</text>\r\n",
       "<text text-anchor=\"middle\" x=\"364\" y=\"-7.8\" font-family=\"Times New Roman,serif\" font-size=\"14.00\">value = 4.0</text>\r\n",
       "</g>\r\n",
       "<!-- 4&#45;&gt;5 -->\r\n",
       "<g id=\"edge5\" class=\"edge\">\r\n",
       "<title>4&#45;&gt;5</title>\r\n",
       "<path fill=\"none\" stroke=\"black\" d=\"M366.6,-88.95C366.25,-80.72 365.88,-71.85 365.52,-63.48\"/>\r\n",
       "<polygon fill=\"black\" stroke=\"black\" points=\"369.01,-63.08 365.09,-53.24 362.02,-63.38 369.01,-63.08\"/>\r\n",
       "</g>\r\n",
       "<!-- 6 -->\r\n",
       "<g id=\"node7\" class=\"node\">\r\n",
       "<title>6</title>\r\n",
       "<polygon fill=\"#e58139\" stroke=\"black\" points=\"574,-53 446,-53 446,0 574,0 574,-53\"/>\r\n",
       "<text text-anchor=\"middle\" x=\"510\" y=\"-37.8\" font-family=\"Times New Roman,serif\" font-size=\"14.00\">friedman_mse = 0.0</text>\r\n",
       "<text text-anchor=\"middle\" x=\"510\" y=\"-22.8\" font-family=\"Times New Roman,serif\" font-size=\"14.00\">samples = 1</text>\r\n",
       "<text text-anchor=\"middle\" x=\"510\" y=\"-7.8\" font-family=\"Times New Roman,serif\" font-size=\"14.00\">value = 6.0</text>\r\n",
       "</g>\r\n",
       "<!-- 4&#45;&gt;6 -->\r\n",
       "<g id=\"edge6\" class=\"edge\">\r\n",
       "<title>4&#45;&gt;6</title>\r\n",
       "<path fill=\"none\" stroke=\"black\" d=\"M417.66,-88.95C432.37,-79.16 448.43,-68.48 462.96,-58.8\"/>\r\n",
       "<polygon fill=\"black\" stroke=\"black\" points=\"464.94,-61.69 471.33,-53.24 461.06,-55.86 464.94,-61.69\"/>\r\n",
       "</g>\r\n",
       "</g>\r\n",
       "</svg>\r\n"
      ],
      "text/plain": [
       "<graphviz.files.Source at 0x277990de7f0>"
      ]
     },
     "execution_count": 42,
     "metadata": {},
     "output_type": "execute_result"
    }
   ],
   "source": [
    "dot=tree.export_graphviz(\n",
    "    gdbt.estimators_[0][0],\n",
    "    filled=True,\n",
    "    out_file=None,\n",
    "    feature_names=X.columns,\n",
    ")\n",
    "graphviz.Source(dot)"
   ]
  },
  {
   "cell_type": "code",
   "execution_count": 47,
   "metadata": {},
   "outputs": [
    {
     "data": {
      "text/plain": [
       "array([-5.4, -3.6,  3.6,  5.4])"
      ]
     },
     "execution_count": 47,
     "metadata": {},
     "output_type": "execute_result"
    }
   ],
   "source": [
    "y1_=gdbt.estimators_[1][0].predict(X)\n",
    "y1_"
   ]
  },
  {
   "cell_type": "code",
   "execution_count": 35,
   "metadata": {},
   "outputs": [
    {
     "data": {
      "image/svg+xml": [
       "<?xml version=\"1.0\" encoding=\"UTF-8\" standalone=\"no\"?>\r\n",
       "<!DOCTYPE svg PUBLIC \"-//W3C//DTD SVG 1.1//EN\"\r\n",
       " \"http://www.w3.org/Graphics/SVG/1.1/DTD/svg11.dtd\">\r\n",
       "<!-- Generated by graphviz version 2.48.0 (20210717.1556)\r\n",
       " -->\r\n",
       "<!-- Title: Tree Pages: 1 -->\r\n",
       "<svg width=\"587pt\" height=\"269pt\"\r\n",
       " viewBox=\"0.00 0.00 587.00 269.00\" xmlns=\"http://www.w3.org/2000/svg\" xmlns:xlink=\"http://www.w3.org/1999/xlink\">\r\n",
       "<g id=\"graph0\" class=\"graph\" transform=\"scale(1 1) rotate(0) translate(4 265)\">\r\n",
       "<title>Tree</title>\r\n",
       "<polygon fill=\"white\" stroke=\"transparent\" points=\"-4,4 -4,-265 583,-265 583,4 -4,4\"/>\r\n",
       "<!-- 0 -->\r\n",
       "<g id=\"node1\" class=\"node\">\r\n",
       "<title>0</title>\r\n",
       "<polygon fill=\"#f2c09c\" stroke=\"black\" points=\"360,-261 218,-261 218,-193 360,-193 360,-261\"/>\r\n",
       "<text text-anchor=\"middle\" x=\"289\" y=\"-245.8\" font-family=\"Times New Roman,serif\" font-size=\"14.00\">购物金额 &lt;= 800.0</text>\r\n",
       "<text text-anchor=\"middle\" x=\"289\" y=\"-230.8\" font-family=\"Times New Roman,serif\" font-size=\"14.00\">friedman_mse = 21.06</text>\r\n",
       "<text text-anchor=\"middle\" x=\"289\" y=\"-215.8\" font-family=\"Times New Roman,serif\" font-size=\"14.00\">samples = 4</text>\r\n",
       "<text text-anchor=\"middle\" x=\"289\" y=\"-200.8\" font-family=\"Times New Roman,serif\" font-size=\"14.00\">value = 0.0</text>\r\n",
       "</g>\r\n",
       "<!-- 1 -->\r\n",
       "<g id=\"node2\" class=\"node\">\r\n",
       "<title>1</title>\r\n",
       "<polygon fill=\"#fdf4ef\" stroke=\"black\" points=\"283.5,-157 122.5,-157 122.5,-89 283.5,-89 283.5,-157\"/>\r\n",
       "<text text-anchor=\"middle\" x=\"203\" y=\"-141.8\" font-family=\"Times New Roman,serif\" font-size=\"14.00\">是否回答问题 &lt;= 0.5</text>\r\n",
       "<text text-anchor=\"middle\" x=\"203\" y=\"-126.8\" font-family=\"Times New Roman,serif\" font-size=\"14.00\">friedman_mse = 0.81</text>\r\n",
       "<text text-anchor=\"middle\" x=\"203\" y=\"-111.8\" font-family=\"Times New Roman,serif\" font-size=\"14.00\">samples = 2</text>\r\n",
       "<text text-anchor=\"middle\" x=\"203\" y=\"-96.8\" font-family=\"Times New Roman,serif\" font-size=\"14.00\">value = &#45;4.5</text>\r\n",
       "</g>\r\n",
       "<!-- 0&#45;&gt;1 -->\r\n",
       "<g id=\"edge1\" class=\"edge\">\r\n",
       "<title>0&#45;&gt;1</title>\r\n",
       "<path fill=\"none\" stroke=\"black\" d=\"M261.08,-192.88C253.57,-183.98 245.36,-174.24 237.53,-164.96\"/>\r\n",
       "<polygon fill=\"black\" stroke=\"black\" points=\"240.2,-162.69 231.08,-157.3 234.85,-167.2 240.2,-162.69\"/>\r\n",
       "<text text-anchor=\"middle\" x=\"228.96\" y=\"-178.51\" font-family=\"Times New Roman,serif\" font-size=\"14.00\">True</text>\r\n",
       "</g>\r\n",
       "<!-- 4 -->\r\n",
       "<g id=\"node5\" class=\"node\">\r\n",
       "<title>4</title>\r\n",
       "<polygon fill=\"#e78c49\" stroke=\"black\" points=\"448.5,-157 301.5,-157 301.5,-89 448.5,-89 448.5,-157\"/>\r\n",
       "<text text-anchor=\"middle\" x=\"375\" y=\"-141.8\" font-family=\"Times New Roman,serif\" font-size=\"14.00\">购物金额 &lt;= 1250.0</text>\r\n",
       "<text text-anchor=\"middle\" x=\"375\" y=\"-126.8\" font-family=\"Times New Roman,serif\" font-size=\"14.00\">friedman_mse = 0.81</text>\r\n",
       "<text text-anchor=\"middle\" x=\"375\" y=\"-111.8\" font-family=\"Times New Roman,serif\" font-size=\"14.00\">samples = 2</text>\r\n",
       "<text text-anchor=\"middle\" x=\"375\" y=\"-96.8\" font-family=\"Times New Roman,serif\" font-size=\"14.00\">value = 4.5</text>\r\n",
       "</g>\r\n",
       "<!-- 0&#45;&gt;4 -->\r\n",
       "<g id=\"edge4\" class=\"edge\">\r\n",
       "<title>0&#45;&gt;4</title>\r\n",
       "<path fill=\"none\" stroke=\"black\" d=\"M316.92,-192.88C324.43,-183.98 332.64,-174.24 340.47,-164.96\"/>\r\n",
       "<polygon fill=\"black\" stroke=\"black\" points=\"343.15,-167.2 346.92,-157.3 337.8,-162.69 343.15,-167.2\"/>\r\n",
       "<text text-anchor=\"middle\" x=\"349.04\" y=\"-178.51\" font-family=\"Times New Roman,serif\" font-size=\"14.00\">False</text>\r\n",
       "</g>\r\n",
       "<!-- 2 -->\r\n",
       "<g id=\"node3\" class=\"node\">\r\n",
       "<title>2</title>\r\n",
       "<polygon fill=\"#ffffff\" stroke=\"black\" points=\"128,-53 0,-53 0,0 128,0 128,-53\"/>\r\n",
       "<text text-anchor=\"middle\" x=\"64\" y=\"-37.8\" font-family=\"Times New Roman,serif\" font-size=\"14.00\">friedman_mse = 0.0</text>\r\n",
       "<text text-anchor=\"middle\" x=\"64\" y=\"-22.8\" font-family=\"Times New Roman,serif\" font-size=\"14.00\">samples = 1</text>\r\n",
       "<text text-anchor=\"middle\" x=\"64\" y=\"-7.8\" font-family=\"Times New Roman,serif\" font-size=\"14.00\">value = &#45;5.4</text>\r\n",
       "</g>\r\n",
       "<!-- 1&#45;&gt;2 -->\r\n",
       "<g id=\"edge2\" class=\"edge\">\r\n",
       "<title>1&#45;&gt;2</title>\r\n",
       "<path fill=\"none\" stroke=\"black\" d=\"M154.38,-88.95C140.12,-79.25 124.56,-68.68 110.44,-59.07\"/>\r\n",
       "<polygon fill=\"black\" stroke=\"black\" points=\"112.09,-55.96 101.86,-53.24 108.16,-61.75 112.09,-55.96\"/>\r\n",
       "</g>\r\n",
       "<!-- 3 -->\r\n",
       "<g id=\"node4\" class=\"node\">\r\n",
       "<title>3</title>\r\n",
       "<polygon fill=\"#fbeade\" stroke=\"black\" points=\"274,-53 146,-53 146,0 274,0 274,-53\"/>\r\n",
       "<text text-anchor=\"middle\" x=\"210\" y=\"-37.8\" font-family=\"Times New Roman,serif\" font-size=\"14.00\">friedman_mse = 0.0</text>\r\n",
       "<text text-anchor=\"middle\" x=\"210\" y=\"-22.8\" font-family=\"Times New Roman,serif\" font-size=\"14.00\">samples = 1</text>\r\n",
       "<text text-anchor=\"middle\" x=\"210\" y=\"-7.8\" font-family=\"Times New Roman,serif\" font-size=\"14.00\">value = &#45;3.6</text>\r\n",
       "</g>\r\n",
       "<!-- 1&#45;&gt;3 -->\r\n",
       "<g id=\"edge3\" class=\"edge\">\r\n",
       "<title>1&#45;&gt;3</title>\r\n",
       "<path fill=\"none\" stroke=\"black\" d=\"M205.45,-88.95C206.06,-80.72 206.71,-71.85 207.33,-63.48\"/>\r\n",
       "<polygon fill=\"black\" stroke=\"black\" points=\"210.85,-63.47 208.09,-53.24 203.86,-62.95 210.85,-63.47\"/>\r\n",
       "</g>\r\n",
       "<!-- 5 -->\r\n",
       "<g id=\"node6\" class=\"node\">\r\n",
       "<title>5</title>\r\n",
       "<polygon fill=\"#e9965a\" stroke=\"black\" points=\"433,-53 305,-53 305,0 433,0 433,-53\"/>\r\n",
       "<text text-anchor=\"middle\" x=\"369\" y=\"-37.8\" font-family=\"Times New Roman,serif\" font-size=\"14.00\">friedman_mse = 0.0</text>\r\n",
       "<text text-anchor=\"middle\" x=\"369\" y=\"-22.8\" font-family=\"Times New Roman,serif\" font-size=\"14.00\">samples = 1</text>\r\n",
       "<text text-anchor=\"middle\" x=\"369\" y=\"-7.8\" font-family=\"Times New Roman,serif\" font-size=\"14.00\">value = 3.6</text>\r\n",
       "</g>\r\n",
       "<!-- 4&#45;&gt;5 -->\r\n",
       "<g id=\"edge5\" class=\"edge\">\r\n",
       "<title>4&#45;&gt;5</title>\r\n",
       "<path fill=\"none\" stroke=\"black\" d=\"M372.9,-88.95C372.38,-80.72 371.82,-71.85 371.28,-63.48\"/>\r\n",
       "<polygon fill=\"black\" stroke=\"black\" points=\"374.76,-62.99 370.63,-53.24 367.77,-63.44 374.76,-62.99\"/>\r\n",
       "</g>\r\n",
       "<!-- 6 -->\r\n",
       "<g id=\"node7\" class=\"node\">\r\n",
       "<title>6</title>\r\n",
       "<polygon fill=\"#e58139\" stroke=\"black\" points=\"579,-53 451,-53 451,0 579,0 579,-53\"/>\r\n",
       "<text text-anchor=\"middle\" x=\"515\" y=\"-37.8\" font-family=\"Times New Roman,serif\" font-size=\"14.00\">friedman_mse = 0.0</text>\r\n",
       "<text text-anchor=\"middle\" x=\"515\" y=\"-22.8\" font-family=\"Times New Roman,serif\" font-size=\"14.00\">samples = 1</text>\r\n",
       "<text text-anchor=\"middle\" x=\"515\" y=\"-7.8\" font-family=\"Times New Roman,serif\" font-size=\"14.00\">value = 5.4</text>\r\n",
       "</g>\r\n",
       "<!-- 4&#45;&gt;6 -->\r\n",
       "<g id=\"edge6\" class=\"edge\">\r\n",
       "<title>4&#45;&gt;6</title>\r\n",
       "<path fill=\"none\" stroke=\"black\" d=\"M423.97,-88.95C438.33,-79.25 454,-68.68 468.23,-59.07\"/>\r\n",
       "<polygon fill=\"black\" stroke=\"black\" points=\"470.54,-61.73 476.87,-53.24 466.62,-55.93 470.54,-61.73\"/>\r\n",
       "</g>\r\n",
       "</g>\r\n",
       "</svg>\r\n"
      ],
      "text/plain": [
       "<graphviz.files.Source at 0x277990dea60>"
      ]
     },
     "execution_count": 35,
     "metadata": {},
     "output_type": "execute_result"
    }
   ],
   "source": [
    "dot=tree.export_graphviz(\n",
    "    gdbt.estimators_[1][0],\n",
    "    filled=True,\n",
    "    out_file=None,\n",
    "    feature_names=X.columns,\n",
    ")\n",
    "graphviz.Source(dot)"
   ]
  },
  {
   "cell_type": "code",
   "execution_count": 53,
   "metadata": {},
   "outputs": [],
   "source": [
    "y2_=y1_-y1_*0.1\n",
    "# y1_*0.9"
   ]
  },
  {
   "cell_type": "code",
   "execution_count": 49,
   "metadata": {},
   "outputs": [
    {
     "data": {
      "text/plain": [
       "array([-4.86, -3.24,  3.24,  4.86])"
      ]
     },
     "execution_count": 49,
     "metadata": {},
     "output_type": "execute_result"
    }
   ],
   "source": [
    "gdbt[2][0].predict(X)"
   ]
  },
  {
   "cell_type": "code",
   "execution_count": 54,
   "metadata": {},
   "outputs": [
    {
     "data": {
      "text/plain": [
       "17.058599999999995"
      ]
     },
     "execution_count": 54,
     "metadata": {},
     "output_type": "execute_result"
    }
   ],
   "source": [
    "np.power(y2_-y2_.mean(),2).mean()"
   ]
  },
  {
   "cell_type": "code",
   "execution_count": null,
   "metadata": {},
   "outputs": [],
   "source": []
  }
 ],
 "metadata": {
  "kernelspec": {
   "display_name": "Python 3",
   "language": "python",
   "name": "python3"
  },
  "language_info": {
   "codemirror_mode": {
    "name": "ipython",
    "version": 3
   },
   "file_extension": ".py",
   "mimetype": "text/x-python",
   "name": "python",
   "nbconvert_exporter": "python",
   "pygments_lexer": "ipython3",
   "version": "3.7.6"
  }
 },
 "nbformat": 4,
 "nbformat_minor": 1
}
