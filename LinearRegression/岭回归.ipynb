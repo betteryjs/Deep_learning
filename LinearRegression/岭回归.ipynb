{
 "cells": [
  {
   "cell_type": "code",
   "execution_count": 7,
   "metadata": {},
   "outputs": [],
   "source": [
    "import numpy as np\n",
    "from sklearn.linear_model import LinearRegression,Ridge\n",
    "import sklearn.datasets as datasets\n",
    "from sklearn.model_selection import train_test_split\n"
   ]
  },
  {
   "cell_type": "code",
   "execution_count": 4,
   "metadata": {},
   "outputs": [],
   "source": [
    "boston=datasets.load_boston()"
   ]
  },
  {
   "cell_type": "code",
   "execution_count": 6,
   "metadata": {},
   "outputs": [],
   "source": [
    "X=boston[\"data\"]\n",
    "y=boston[\"target\"]"
   ]
  },
  {
   "cell_type": "code",
   "execution_count": 9,
   "metadata": {},
   "outputs": [],
   "source": [
    "x_train,x_test,y_train,y_test=train_test_split(X,y,test_size=0.2)"
   ]
  },
  {
   "cell_type": "code",
   "execution_count": 20,
   "metadata": {},
   "outputs": [
    {
     "name": "stdout",
     "output_type": "stream",
     "text": [
      "[-1.20557122e-01  4.92592780e-02  6.33741867e-04  2.85408115e+00\n",
      " -2.05265483e+01  3.75799982e+00  5.02406627e-03 -1.65373525e+00\n",
      "  3.24697883e-01 -1.21564611e-02 -9.62025776e-01  8.23737987e-03\n",
      " -5.21665282e-01] 0.7793433840547442\n"
     ]
    }
   ],
   "source": [
    "lr=LinearRegression()\n",
    "lr.fit(x_train,y_train)\n",
    "print(lr.coef_,lr.score(x_test,y_test))"
   ]
  },
  {
   "cell_type": "code",
   "execution_count": 23,
   "metadata": {},
   "outputs": [
    {
     "name": "stdout",
     "output_type": "stream",
     "text": [
      "[-1.17639386e-01  5.14236503e-02 -3.58366754e-02  2.77086250e+00\n",
      " -1.10476350e+01  3.79244342e+00 -4.34136676e-03 -1.52509930e+00\n",
      "  3.02963072e-01 -1.30110187e-02 -8.63333744e-01  8.65787635e-03\n",
      " -5.30387005e-01] 0.7854930313292214\n"
     ]
    }
   ],
   "source": [
    "\"\"\"\n",
    "alpha=1.0,\n",
    "    *,\n",
    "    fit_intercept=True,\n",
    "    normalize=False,\n",
    "    copy_X=True,\n",
    "    max_iter=None,\n",
    "    tol=0.001, # 精度 \n",
    "    solver='auto',\n",
    "    random_state=None,\n",
    "\"\"\"\n",
    "ridge=Ridge(alpha=1)\n",
    "ridge.fit(x_train,y_train)\n",
    "print(ridge.coef_,ridge.score(x_test,y_test))"
   ]
  }
 ],
 "metadata": {
  "kernelspec": {
   "display_name": "Python 3",
   "language": "python",
   "name": "python3"
  },
  "language_info": {
   "codemirror_mode": {
    "name": "ipython",
    "version": 3
   },
   "file_extension": ".py",
   "mimetype": "text/x-python",
   "name": "python",
   "nbconvert_exporter": "python",
   "pygments_lexer": "ipython3",
   "version": "3.8.1"
  }
 },
 "nbformat": 4,
 "nbformat_minor": 2
}
