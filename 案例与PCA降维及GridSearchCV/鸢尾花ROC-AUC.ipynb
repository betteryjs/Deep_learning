{
 "cells": [
  {
   "cell_type": "code",
   "execution_count": 1,
   "metadata": {},
   "outputs": [],
   "source": [
    "import numpy as np\n",
    "import pandas as pd\n",
    "import seaborn as sns\n",
    "import matplotlib.pyplot as plt\n",
    "%matplotlib inline\n",
    "import warnings\n",
    "import sklearn.datasets as datasets\n",
    "from sklearn.model_selection import train_test_split # 将数据随机的分为训练数据和测试数据\n",
    "from sklearn.linear_model import LogisticRegression\n",
    "from sklearn.svm import SVC\n",
    "from sklearn.metrics import roc_curve # 画ROC-AUC线的\n",
    "from sklearn.metrics import auc # 计算ROC-AUC图形面积的\n",
    "from sklearn.model_selection import KFold\n",
    "from sklearn.model_selection import StratifiedKFold # 分层抽样 原始比例是多少分层抽象出来也是多少\n",
    "\n",
    "sns.set_style(style=\"darkgrid\")\n",
    "warnings.filterwarnings(\"ignore\")"
   ]
  },
  {
   "cell_type": "code",
   "execution_count": 2,
   "metadata": {},
   "outputs": [],
   "source": [
    "iris=datasets.load_iris()\n",
    "X=iris[\"data\"]\n",
    "y=iris[\"target\"]"
   ]
  },
  {
   "cell_type": "code",
   "execution_count": 3,
   "metadata": {},
   "outputs": [],
   "source": [
    "cond=y!=2\n",
    "X=X[cond]\n",
    "y=y[cond]\n"
   ]
  },
  {
   "cell_type": "code",
   "execution_count": 4,
   "metadata": {},
   "outputs": [
    {
     "name": "stdout",
     "output_type": "stream",
     "text": [
      "[[11  0]\n",
      " [ 2 44]\n",
      " [24 35]\n",
      " [ 2 42]\n",
      " [30 44]\n",
      " [ 3 20]\n",
      " [35 24]\n",
      " [21 10]] [0 0 1 0 1 1 0 1]\n"
     ]
    }
   ],
   "source": [
    "# a 是数据\n",
    "a=np.random.randint(50,size=(8,2))\n",
    "# b是目标值\n",
    "b=np.array([0,0,1,0,1,1,0,1])\n",
    "print(a,b)"
   ]
  },
  {
   "cell_type": "code",
   "execution_count": 5,
   "metadata": {},
   "outputs": [],
   "source": [
    "\"\"\"\n",
    "n_splits=4, random_state=None, shuffle=False\n",
    "\"\"\"\n",
    "KFold=KFold(n_splits=4)"
   ]
  },
  {
   "cell_type": "code",
   "execution_count": 6,
   "metadata": {},
   "outputs": [
    {
     "name": "stdout",
     "output_type": "stream",
     "text": [
      "[2 3 4 5 6 7] [0 1]\n",
      "[0 1 4 5 6 7] [2 3]\n",
      "[0 1 2 3 6 7] [4 5]\n",
      "[0 1 2 3 4 5] [6 7]\n"
     ]
    }
   ],
   "source": [
    "for train , test in KFold.split(a,b):\n",
    "    print(train,test)"
   ]
  },
  {
   "cell_type": "code",
   "execution_count": 7,
   "metadata": {},
   "outputs": [],
   "source": [
    "sKFold=StratifiedKFold(n_splits=4)"
   ]
  },
  {
   "cell_type": "code",
   "execution_count": 8,
   "metadata": {},
   "outputs": [
    {
     "name": "stdout",
     "output_type": "stream",
     "text": [
      "[1 3 4 5 6 7] [0 2]\n",
      "[0 2 3 5 6 7] [1 4]\n",
      "[0 1 2 4 6 7] [3 5]\n",
      "[0 1 2 3 4 5] [6 7]\n"
     ]
    }
   ],
   "source": [
    "for train , test in sKFold.split(a,b):\n",
    "    print(train,test)"
   ]
  },
  {
   "cell_type": "code",
   "execution_count": 21,
   "metadata": {},
   "outputs": [],
   "source": [
    "sKFold=StratifiedKFold(n_splits=6)"
   ]
  },
  {
   "cell_type": "code",
   "execution_count": null,
   "metadata": {},
   "outputs": [],
   "source": []
  },
  {
   "cell_type": "code",
   "execution_count": 22,
   "metadata": {},
   "outputs": [],
   "source": []
  },
  {
   "cell_type": "code",
   "execution_count": null,
   "metadata": {},
   "outputs": [],
   "source": []
  },
  {
   "cell_type": "code",
   "execution_count": 23,
   "metadata": {
    "collapsed": true
   },
   "outputs": [
    {
     "name": "stdout",
     "output_type": "stream",
     "text": [
      "[0.01699906 0.0237287  0.0151745  0.02284188 0.01499823 0.0322661\n",
      " 0.01599412 0.02083299 0.02185769 0.97733338 0.98267957 0.98133555\n",
      " 0.98598312 0.98771038 0.98799271 0.98338213 0.91508735]\n",
      "[0.02576115 0.02047625 0.02436816 0.02264991 0.01221923 0.01381201\n",
      " 0.01976475 0.01477341 0.01842552 0.98427963 0.98236297 0.97338439\n",
      " 0.9843803  0.98755215 0.98870313 0.9648621  0.97830413]\n",
      "[0.04092902 0.01916148 0.04383477 0.02219198 0.00738105 0.05316977\n",
      " 0.05185645 0.04220876 0.98667366 0.98235397 0.99116065 0.98225157\n",
      " 0.9847756  0.98050816 0.98964495 0.98764643 0.9817514 ]\n",
      "[0.03240498 0.02182454 0.01951824 0.02881754 0.03273482 0.03198714\n",
      " 0.01416232 0.01472615 0.98274661 0.9848777  0.98481954 0.98952076\n",
      " 0.9615021  0.98224341 0.97704798 0.98196965 0.99179715]\n",
      "[0.03181384 0.01688836 0.01688251 0.01349806 0.02472811 0.02274446\n",
      " 0.01526159 0.07061589 0.98787832 0.979084   0.98111015 0.99109997\n",
      " 0.98020959 0.98768516 0.99037814 0.98674897]\n",
      "[0.01496876 0.03428973 0.04588721 0.02388391 0.02069971 0.01802914\n",
      " 0.01958144 0.0183961  0.98403145 0.9293267  0.98744727 0.98283178\n",
      " 0.98530353 0.98620976 0.86046126 0.98466901]\n"
     ]
    },
    {
     "data": {
      "text/plain": [
       "<matplotlib.legend.Legend at 0x1b63ee99c70>"
      ]
     },
     "execution_count": 23,
     "metadata": {},
     "output_type": "execute_result"
    },
    {
     "data": {
      "image/png": "[encoded data removed]",
      "text/plain": [
       "<Figure size 432x288 with 1 Axes>"
      ]
     },
     "metadata": {},
     "output_type": "display_data"
    }
   ],
   "source": [
    "lg=LogisticRegression()\n",
    "svc=SVC(probability=True)\n",
    "num=1\n",
    "# model=lg\n",
    "model=svc\n",
    "for train , test in sKFold.split(X,y):\n",
    "    x_train= X[train]\n",
    "    y_train=y[train]\n",
    "    x_test=X[test]\n",
    "    y_test=y[test]\n",
    "    model.fit(x_train,y_train)\n",
    "    prob=model.predict_proba(x_test)[:,1]\n",
    "    print(prob)\n",
    "    fpr,tpr,thresholds=roc_curve(y_test,prob)\n",
    "    auc_=auc(fpr,tpr)\n",
    "    plt.plot(fpr,tpr,label=\"X: {} AUC: {}\".format(num,auc_.round(3)))\n",
    "    num+=1\n",
    "plt.legend()    "
   ]
  },
  {
   "cell_type": "code",
   "execution_count": 25,
   "metadata": {},
   "outputs": [
    {
     "data": {
      "text/plain": [
       "(100, 4)"
      ]
     },
     "execution_count": 25,
     "metadata": {},
     "output_type": "execute_result"
    }
   ],
   "source": [
    "X.shape"
   ]
  },
  {
   "cell_type": "code",
   "execution_count": 38,
   "metadata": {},
   "outputs": [],
   "source": [
    "X=np.concatenate([X,np.random.randn(100,800)],axis=1)"
   ]
  },
  {
   "cell_type": "code",
   "execution_count": 39,
   "metadata": {},
   "outputs": [],
   "source": [
    "# 线性插值\n",
    "from scipy import interp\n"
   ]
  },
  {
   "cell_type": "code",
   "execution_count": 52,
   "metadata": {},
   "outputs": [
    {
     "name": "stdout",
     "output_type": "stream",
     "text": [
      "avg nuc 0.717\n"
     ]
    },
    {
     "data": {
      "text/plain": [
       "<matplotlib.legend.Legend at 0x1b641568790>"
      ]
     },
     "execution_count": 52,
     "metadata": {},
     "output_type": "execute_result"
    },
    {
     "data": {
      "image/png": "[encoded data removed]",
      "text/plain": [
       "<Figure size 432x288 with 1 Axes>"
      ]
     },
     "metadata": {},
     "output_type": "display_data"
    }
   ],
   "source": [
    "lg=LogisticRegression()\n",
    "svc=SVC(probability=True)\n",
    "num=1\n",
    "aucs=[]\n",
    "model=lg\n",
    "fprs=np.linspace(0,1,100)\n",
    "tprs=[]\n",
    "# model=svc\n",
    "for train , test in sKFold.split(X,y):\n",
    "    x_train= X[train]\n",
    "    y_train=y[train]\n",
    "    x_test=X[test]\n",
    "    y_test=y[test]\n",
    "    model.fit(x_train,y_train)\n",
    "    prob=model.predict_proba(x_test)[:,1]\n",
    "#     print(prob)\n",
    "    fpr,tpr,thresholds=roc_curve(y_test,prob)\n",
    "    # 对tpr 进行线性插值\n",
    "    tprs.append(interp(fprs,fpr,tpr))\n",
    "#     fprs.append(fpr)\n",
    "#     tprs.append(tpr)\n",
    "    \n",
    "    auc_=auc(fpr,tpr)\n",
    "    aucs.append(auc_)\n",
    "    plt.plot(fpr,tpr,alpha=0.3,label=\"X: {} AUC: {}\".format(num,auc_.round(3)))\n",
    "    num+=1\n",
    "# tprs 中6个数据 求平均值\n",
    "tprs=np.mean(tprs,axis=0)\n",
    "\n",
    "auc_mean=auc(fprs,tprs)\n",
    "std_auc=np.std(aucs).round(3)\n",
    "plt.plot(fprs,tprs,label=f\"Mean auc : {auc_mean.round(3)} $\\pm${std_auc}\",c=\"green\")\n",
    "print(f\"avg nuc {np.mean(aucs).round(3)}\")\n",
    "plt.legend()    "
   ]
  },
  {
   "cell_type": "code",
   "execution_count": 43,
   "metadata": {},
   "outputs": [
    {
     "data": {
      "text/plain": [
       "array([0.835     , 0.7525    , 0.80333333, 0.56888889, 0.6575    ,\n",
       "       0.6875    ])"
      ]
     },
     "execution_count": 43,
     "metadata": {},
     "output_type": "execute_result"
    }
   ],
   "source": [
    "np.mean(tprs,axis=1)"
   ]
  },
  {
   "cell_type": "code",
   "execution_count": null,
   "metadata": {},
   "outputs": [],
   "source": []
  },
  {
   "cell_type": "code",
   "execution_count": null,
   "metadata": {},
   "outputs": [],
   "source": []
  },
  {
   "cell_type": "code",
   "execution_count": null,
   "metadata": {},
   "outputs": [],
   "source": []
  },
  {
   "cell_type": "code",
   "execution_count": 36,
   "metadata": {},
   "outputs": [
    {
     "data": {
      "text/plain": [
       "array([array([0.   , 0.125, 0.875, 0.875, 1.   , 1.   ]),\n",
       "       array([0.   , 0.125, 0.375, 0.375, 0.75 , 0.75 , 0.875, 0.875, 1.   ,\n",
       "              1.   ])                                                       ,\n",
       "       array([0.        , 0.11111111, 0.55555556, 0.55555556, 0.66666667,\n",
       "              0.66666667, 0.88888889, 0.88888889, 1.        , 1.        ]),\n",
       "       array([0.        , 0.11111111, 0.11111111, 0.22222222, 0.22222222,\n",
       "              0.66666667, 0.66666667, 0.77777778, 0.77777778, 1.        ,\n",
       "              1.        ])                                               ,\n",
       "       array([0.   , 0.125, 0.875, 0.875, 1.   , 1.   ]),\n",
       "       array([0.   , 0.125, 0.25 , 0.25 , 0.375, 0.375, 0.75 , 0.75 , 0.875,\n",
       "              0.875, 1.   , 1.   ])                                         ],\n",
       "      dtype=object)"
      ]
     },
     "execution_count": 36,
     "metadata": {},
     "output_type": "execute_result"
    }
   ],
   "source": [
    "np.array(tprs)"
   ]
  },
  {
   "cell_type": "code",
   "execution_count": 55,
   "metadata": {},
   "outputs": [
    {
     "data": {
      "text/plain": [
       "100"
      ]
     },
     "execution_count": 55,
     "metadata": {},
     "output_type": "execute_result"
    }
   ],
   "source": [
    "fprs.size"
   ]
  },
  {
   "cell_type": "code",
   "execution_count": null,
   "metadata": {},
   "outputs": [],
   "source": []
  },
  {
   "cell_type": "code",
   "execution_count": null,
   "metadata": {},
   "outputs": [],
   "source": []
  },
  {
   "cell_type": "code",
   "execution_count": 53,
   "metadata": {},
   "outputs": [
    {
     "name": "stdout",
     "output_type": "stream",
     "text": [
      "avg nuc 0.481\n"
     ]
    },
    {
     "data": {
      "text/plain": [
       "<matplotlib.legend.Legend at 0x1b64160ffd0>"
      ]
     },
     "execution_count": 53,
     "metadata": {},
     "output_type": "execute_result"
    },
    {
     "data": {
      "image/png": "[encoded data removed]",
      "text/plain": [
       "<Figure size 432x288 with 1 Axes>"
      ]
     },
     "metadata": {},
     "output_type": "display_data"
    }
   ],
   "source": [
    "lg=LogisticRegression()\n",
    "svc=SVC(probability=True)\n",
    "num=1\n",
    "aucs=[]\n",
    "# model=lg\n",
    "model=svc\n",
    "\n",
    "fprs=np.linspace(0,1,100)\n",
    "tprs=[]\n",
    "for train , test in sKFold.split(X,y):\n",
    "    x_train= X[train]\n",
    "    y_train=y[train]\n",
    "    x_test=X[test]\n",
    "    y_test=y[test]\n",
    "    model.fit(x_train,y_train)\n",
    "    prob=model.predict_proba(x_test)[:,1]\n",
    "#     print(prob)\n",
    "    fpr,tpr,thresholds=roc_curve(y_test,prob)\n",
    "    # 对tpr 进行线性插值\n",
    "    tprs.append(interp(fprs,fpr,tpr))\n",
    "#     fprs.append(fpr)\n",
    "#     tprs.append(tpr)\n",
    "    \n",
    "    auc_=auc(fpr,tpr)\n",
    "    aucs.append(auc_)\n",
    "    plt.plot(fpr,tpr,alpha=0.3,label=\"X: {} AUC: {}\".format(num,auc_.round(3)))\n",
    "    num+=1\n",
    "# tprs 中6个数据 求平均值\n",
    "tprs=np.mean(tprs,axis=0)\n",
    "\n",
    "auc_mean=auc(fprs,tprs)\n",
    "std_auc=np.std(aucs).round(3)\n",
    "plt.plot(fprs,tprs,label=f\"Mean auc : {auc_mean.round(3)} $\\pm${std_auc}\",c=\"green\")\n",
    "print(f\"avg nuc {np.mean(aucs).round(3)}\")\n",
    "plt.legend()    "
   ]
  },
  {
   "cell_type": "code",
   "execution_count": null,
   "metadata": {},
   "outputs": [],
   "source": []
  },
  {
   "cell_type": "code",
   "execution_count": null,
   "metadata": {},
   "outputs": [],
   "source": []
  },
  {
   "cell_type": "code",
   "execution_count": null,
   "metadata": {},
   "outputs": [],
   "source": []
  }
 ],
 "metadata": {
  "kernelspec": {
   "display_name": "Python 3",
   "language": "python",
   "name": "python3"
  },
  "language_info": {
   "codemirror_mode": {
    "name": "ipython",
    "version": 3
   },
   "file_extension": ".py",
   "mimetype": "text/x-python",
   "name": "python",
   "nbconvert_exporter": "python",
   "pygments_lexer": "ipython3",
   "version": "3.7.6"
  }
 },
 "nbformat": 4,
 "nbformat_minor": 2
}
