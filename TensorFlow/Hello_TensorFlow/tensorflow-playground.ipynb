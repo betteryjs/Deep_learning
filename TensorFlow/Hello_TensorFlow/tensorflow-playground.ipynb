{
 "cells": [
  {
   "cell_type": "code",
   "execution_count": 2,
   "metadata": {},
   "outputs": [],
   "source": [
    "import numpy as np\n",
    "import matplotlib.pyplot as plt\n",
    "%matplotlib inline"
   ]
  },
  {
   "cell_type": "code",
   "execution_count": null,
   "metadata": {},
   "outputs": [],
   "source": [
    "x1 -------------> x\n",
    "x2 -------------> y"
   ]
  },
  {
   "cell_type": "code",
   "execution_count": null,
   "metadata": {},
   "outputs": [],
   "source": [
    "# 第一个神经元输出\n",
    "# x -----> 0.72\n",
    "# y -----> 0.87\n",
    "\n",
    "0.72*x+0.87*y=0\n",
    "\n",
    "# 第二个神经元输出\n",
    "# x -----> 0.16\n",
    "# y -----> 0.17\n",
    "0.16*x+0.17*y=0"
   ]
  },
  {
   "cell_type": "code",
   "execution_count": 7,
   "metadata": {
    "collapsed": true
   },
   "outputs": [
    {
     "ename": "SyntaxError",
     "evalue": "cannot assign to operator (<ipython-input-7-0ee13097fdfd>, line 3)",
     "output_type": "error",
     "traceback": [
      "\u001b[1;36m  File \u001b[1;32m\"<ipython-input-7-0ee13097fdfd>\"\u001b[1;36m, line \u001b[1;32m3\u001b[0m\n\u001b[1;33m    (0.72+0.16*0.43)*x+(0.87+0.17*0.43)*y=0\u001b[0m\n\u001b[1;37m    ^\u001b[0m\n\u001b[1;31mSyntaxError\u001b[0m\u001b[1;31m:\u001b[0m cannot assign to operator\n"
     ]
    }
   ],
   "source": [
    "# 0.72*x+0.87*y=0    -----> 1.0 \n",
    "# 0.16*x+0.17*y=0    -----> 0.43\n",
    "(0.72+0.16*0.43)*x+(0.87+0.17*0.43)*y=0\n",
    "\n",
    "0.7888*x+0.9431*y=0\n",
    "\n",
    "y=(-0.7888/0.9431)*x\n",
    "\n",
    "y=-0.8364*x\n",
    "\n",
    "\n"
   ]
  },
  {
   "cell_type": "code",
   "execution_count": 8,
   "metadata": {},
   "outputs": [],
   "source": [
    "w=(-0.7888/0.9431)"
   ]
  },
  {
   "cell_type": "code",
   "execution_count": 10,
   "metadata": {},
   "outputs": [
    {
     "data": {
      "text/plain": [
       "(-6.0, 6.0, -6.0, 6.0)"
      ]
     },
     "execution_count": 10,
     "metadata": {},
     "output_type": "execute_result"
    },
    {
     "data": {
      "image/png": "[encoded data removed]",
      "text/plain": [
       "<Figure size 432x432 with 1 Axes>"
      ]
     },
     "metadata": {
      "needs_background": "light"
     },
     "output_type": "display_data"
    }
   ],
   "source": [
    "plt.figure(figsize=(6,6))\n",
    "x=np.linspace(-6,6,50)\n",
    "\n",
    "plt.plot(x,w*x,color=\"green\")\n",
    "plt.axis([-6,6,-6,6])"
   ]
  }
 ],
 "metadata": {
  "kernelspec": {
   "display_name": "Python 3",
   "language": "python",
   "name": "python3"
  },
  "language_info": {
   "codemirror_mode": {
    "name": "ipython",
    "version": 3
   },
   "file_extension": ".py",
   "mimetype": "text/x-python",
   "name": "python",
   "nbconvert_exporter": "python",
   "pygments_lexer": "ipython3",
   "version": "3.8.1"
  }
 },
 "nbformat": 4,
 "nbformat_minor": 2
}
