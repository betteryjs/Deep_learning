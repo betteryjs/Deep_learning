{
 "cells": [
  {
   "cell_type": "code",
   "execution_count": 2,
   "metadata": {},
   "outputs": [],
   "source": [
    "import numpy as np\n",
    "import tensorflow as tf\n",
    "import matplotlib.pyplot as plt\n",
    "%matplotlib inline\n",
    "tf.compat.v1.disable_eager_execution()"
   ]
  },
  {
   "cell_type": "code",
   "execution_count": 3,
   "metadata": {
    "scrolled": true
   },
   "outputs": [
    {
     "data": {
      "text/plain": [
       "array([[[199, 155, 152],\n",
       "        [195, 154, 150],\n",
       "        [201, 164, 158],\n",
       "        ...,\n",
       "        [189, 195, 211],\n",
       "        [191, 197, 213],\n",
       "        [193, 199, 215]],\n",
       "\n",
       "       [[203, 159, 156],\n",
       "        [198, 157, 153],\n",
       "        [196, 159, 153],\n",
       "        ...,\n",
       "        [186, 192, 208],\n",
       "        [187, 193, 209],\n",
       "        [189, 195, 211]],\n",
       "\n",
       "       [[197, 156, 154],\n",
       "        [197, 157, 155],\n",
       "        [189, 154, 150],\n",
       "        ...,\n",
       "        [186, 192, 206],\n",
       "        [186, 192, 206],\n",
       "        [187, 193, 207]],\n",
       "\n",
       "       ...,\n",
       "\n",
       "       [[185, 173, 161],\n",
       "        [182, 170, 158],\n",
       "        [179, 166, 158],\n",
       "        ...,\n",
       "        [ 92, 112,  75],\n",
       "        [ 90, 110,  73],\n",
       "        [ 88, 108,  71]],\n",
       "\n",
       "       [[178, 166, 154],\n",
       "        [174, 162, 150],\n",
       "        [171, 158, 150],\n",
       "        ...,\n",
       "        [ 91, 111,  74],\n",
       "        [ 89, 109,  72],\n",
       "        [ 89, 109,  72]],\n",
       "\n",
       "       [[171, 159, 147],\n",
       "        [166, 154, 142],\n",
       "        [162, 149, 141],\n",
       "        ...,\n",
       "        [ 96, 116,  79],\n",
       "        [ 95, 115,  78],\n",
       "        [ 97, 117,  80]]], dtype=uint8)"
      ]
     },
     "execution_count": 3,
     "metadata": {},
     "output_type": "execute_result"
    }
   ],
   "source": [
    "image=plt.imread(\"./欧式.jpg\")\n"
   ]
  },
  {
   "cell_type": "code",
   "execution_count": null,
   "metadata": {},
   "outputs": [],
   "source": []
  },
  {
   "cell_type": "code",
   "execution_count": null,
   "metadata": {},
   "outputs": [],
   "source": []
  },
  {
   "cell_type": "code",
   "execution_count": null,
   "metadata": {},
   "outputs": [],
   "source": []
  },
  {
   "cell_type": "code",
   "execution_count": null,
   "metadata": {},
   "outputs": [],
   "source": []
  },
  {
   "cell_type": "code",
   "execution_count": null,
   "metadata": {},
   "outputs": [],
   "source": []
  },
  {
   "cell_type": "code",
   "execution_count": null,
   "metadata": {},
   "outputs": [],
   "source": []
  }
 ],
 "metadata": {
  "kernelspec": {
   "display_name": "Python 3",
   "language": "python",
   "name": "python3"
  },
  "language_info": {
   "codemirror_mode": {
    "name": "ipython",
    "version": 3
   },
   "file_extension": ".py",
   "mimetype": "text/x-python",
   "name": "python",
   "nbconvert_exporter": "python",
   "pygments_lexer": "ipython3",
   "version": "3.8.1"
  }
 },
 "nbformat": 4,
 "nbformat_minor": 2
}
