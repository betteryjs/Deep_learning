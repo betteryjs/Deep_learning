{
 "cells": [
  {
   "cell_type": "code",
   "execution_count": 4,
   "metadata": {},
   "outputs": [],
   "source": [
    "import numpy as np\n",
    "import matplotlib.pyplot as plt\n",
    "%matplotlib inline\n",
    "import tensorflow as tf\n",
    "tf.compat.v1.disable_eager_execution()"
   ]
  },
  {
   "cell_type": "code",
   "execution_count": 6,
   "metadata": {},
   "outputs": [
    {
     "data": {
      "text/plain": [
       "array([[2, 1, 0, 2, 3],\n",
       "       [9, 5, 4, 2, 0],\n",
       "       [2, 3, 4, 5, 6],\n",
       "       [1, 2, 3, 1, 0],\n",
       "       [0, 4, 4, 2, 8]])"
      ]
     },
     "execution_count": 6,
     "metadata": {},
     "output_type": "execute_result"
    }
   ],
   "source": [
    "data=np.array([[2,1,0,2,3],[9,5,4,2,0],[2,3,4,5,6],[1,2,3,1,0],[0,4,4,2,8]])\n",
    "data"
   ]
  },
  {
   "cell_type": "code",
   "execution_count": 7,
   "metadata": {},
   "outputs": [
    {
     "data": {
      "text/plain": [
       "array([[-1,  0,  1],\n",
       "       [-1,  0,  1],\n",
       "       [-1,  0,  1]])"
      ]
     },
     "execution_count": 7,
     "metadata": {},
     "output_type": "execute_result"
    }
   ],
   "source": [
    "filter_=np.array([[-1,0,1],[-1,0,1],[-1,0,1]])\n",
    "filter_"
   ]
  },
  {
   "cell_type": "code",
   "execution_count": 18,
   "metadata": {},
   "outputs": [
    {
     "data": {
      "text/plain": [
       "<tf.Tensor 'Conv2D_1:0' shape=(1, 3, 3, 1) dtype=float32>"
      ]
     },
     "execution_count": 18,
     "metadata": {},
     "output_type": "execute_result"
    }
   ],
   "source": [
    "\"\"\"\n",
    "input,\n",
    "filters,\n",
    "strides,\n",
    "padding,\n",
    "data_format='NHWC',\n",
    "dilations=None,\n",
    "name=None,\n",
    "\n",
    "\"\"\"\n",
    "input_data=tf.reshape(tensor=data,shape=[1,5,5,1])\n",
    "\n",
    "# input_data.astype(tf.float64)\n",
    "input_data=tf.cast(input_data,dtype=tf.float32)\n",
    "input_data\n",
    "# input Computes a 2-D convolution given `input` and 4-D `filters` tensors.\n",
    "# 1. Flattens the filter to a 2-D matrix with shape\n",
    "#    `[filter_height * filter_width * in_channels, output_channels]`.\n",
    "# padding: Either the `string` `\"SAME\"` or `\"VALID\"` indicating the type of\n",
    "filters_=tf.cast(tf.reshape(tensor=filter_,shape=[3,3,1,1]),dtype=tf.float32)\n",
    "\n",
    "\n",
    "conv=tf.nn.conv2d(input=input_data,filters=filters_,strides=[1,1,1,1],padding=\"VALID\")\n",
    "conv"
   ]
  },
  {
   "cell_type": "code",
   "execution_count": 24,
   "metadata": {},
   "outputs": [
    {
     "name": "stdout",
     "output_type": "stream",
     "text": [
      "[[-5.  0.  1.]\n",
      " [-1. -2. -5.]\n",
      " [ 8. -1.  3.]]\n"
     ]
    }
   ],
   "source": [
    "with tf.compat.v1.Session() as sess:\n",
    "    res=sess.run(conv).reshape(3,3)\n",
    "    print(res)"
   ]
  }
 ],
 "metadata": {
  "kernelspec": {
   "display_name": "Python 3",
   "language": "python",
   "name": "python3"
  },
  "language_info": {
   "codemirror_mode": {
    "name": "ipython",
    "version": 3
   },
   "file_extension": ".py",
   "mimetype": "text/x-python",
   "name": "python",
   "nbconvert_exporter": "python",
   "pygments_lexer": "ipython3",
   "version": "3.8.1"
  }
 },
 "nbformat": 4,
 "nbformat_minor": 2
}
