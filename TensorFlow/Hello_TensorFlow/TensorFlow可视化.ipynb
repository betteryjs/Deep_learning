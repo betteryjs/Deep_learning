{
 "cells": [
  {
   "cell_type": "code",
   "execution_count": 4,
   "metadata": {},
   "outputs": [],
   "source": [
    "import numpy as np\n",
    "import tensorflow as tf\n",
    "tf.compat.v1.disable_eager_execution()\n",
    "\n"
   ]
  },
  {
   "cell_type": "code",
   "execution_count": 8,
   "metadata": {},
   "outputs": [],
   "source": [
    "with tf.name_scope(name=\"filed\") as scope:\n",
    "    m1=tf.constant(np.random.randint(0,10,size=(2,3)),name=\"m1\",dtype=tf.float64)\n",
    "    m2=tf.constant(np.random.randint(0,10,size=(3,5)),name=\"m2\",dtype=tf.float64)\n",
    "    pro=tf.matmul(m1,m2,name=\"product\")\n",
    "\n",
    "sess=tf.compat.v1.Session()\n",
    "tf.compat.v1.summary.FileWriter('./logs',sess.graph)\n",
    "# tf.summary.create_file_writer('./logs',sess.graph)\n",
    "sess.run(pro)\n",
    "sess.close()\n",
    "\"\"\"\n",
    "tensorboard --logdir logs\n",
    "\"\"\""
   ]
  },
  {
   "cell_type": "code",
   "execution_count": 11,
   "metadata": {},
   "outputs": [
    {
     "name": "stdout",
     "output_type": "stream",
     "text": [
      "0 weight: [0.19458145] bias: [0.23074748]\n",
      "10 weight: [0.23057464] bias: [0.13914825]\n",
      "20 weight: [0.26454008] bias: [0.1199953]\n",
      "30 weight: [0.28188846] bias: [0.11021283]\n",
      "40 weight: [0.2907493] bias: [0.10521632]\n",
      "50 weight: [0.29527512] bias: [0.1026643]\n",
      "60 weight: [0.2975867] bias: [0.10136082]\n",
      "70 weight: [0.2987674] bias: [0.10069505]\n",
      "80 weight: [0.29937044] bias: [0.10035501]\n",
      "90 weight: [0.29967844] bias: [0.10018133]\n",
      "100 weight: [0.29983577] bias: [0.10009261]\n"
     ]
    }
   ],
   "source": [
    "\n",
    "\n",
    "## prepare the original data\n",
    "with tf.name_scope('data'):\n",
    "    x_data = np.random.rand(100).astype(np.float32)\n",
    "    y_data = 0.3*x_data+0.1\n",
    "##creat parameters\n",
    "with tf.name_scope('parameters'):\n",
    "    weight = tf.Variable(tf.random.uniform([1],-1.0,1.0),name = 'weight')\n",
    "    bias = tf.Variable(tf.zeros([1]),name = 'bias')\n",
    "##get y_prediction\n",
    "with tf.name_scope('y_prediction'):\n",
    "     y_prediction = weight*x_data+bias\n",
    "##compute the loss\n",
    "with tf.name_scope('loss'):\n",
    "     loss = tf.reduce_mean(tf.square(y_data-y_prediction))\n",
    "##creat optimizer\n",
    "optimizer = tf.compat.v1.train.GradientDescentOptimizer(0.5)\n",
    "#creat train ,minimize the loss\n",
    "with tf.name_scope('train'):\n",
    "     train = optimizer.minimize(loss)\n",
    "#creat init\n",
    "with tf.name_scope('init'):\n",
    "     init = tf.compat.v1.global_variables_initializer()\n",
    "##creat a Session\n",
    "sess = tf.compat.v1.Session()\n",
    "##initialize\n",
    "writer = tf.compat.v1.summary.FileWriter(\"logs/\", sess.graph)\n",
    "sess.run(init)\n",
    "## Loop\n",
    "for step  in  range(101):\n",
    "    sess.run(train)\n",
    "    if step %10==0 :\n",
    "        print(step ,'weight:',sess.run(weight),'bias:',sess.run(bias))\n",
    "        \n",
    "sess.close()"
   ]
  },
  {
   "cell_type": "code",
   "execution_count": null,
   "metadata": {},
   "outputs": [],
   "source": []
  },
  {
   "cell_type": "code",
   "execution_count": null,
   "metadata": {},
   "outputs": [],
   "source": []
  },
  {
   "cell_type": "code",
   "execution_count": null,
   "metadata": {},
   "outputs": [],
   "source": []
  },
  {
   "cell_type": "code",
   "execution_count": null,
   "metadata": {},
   "outputs": [],
   "source": []
  }
 ],
 "metadata": {
  "kernelspec": {
   "display_name": "Python 3",
   "language": "python",
   "name": "python3"
  },
  "language_info": {
   "codemirror_mode": {
    "name": "ipython",
    "version": 3
   },
   "file_extension": ".py",
   "mimetype": "text/x-python",
   "name": "python",
   "nbconvert_exporter": "python",
   "pygments_lexer": "ipython3",
   "version": "3.8.1"
  }
 },
 "nbformat": 4,
 "nbformat_minor": 1
}