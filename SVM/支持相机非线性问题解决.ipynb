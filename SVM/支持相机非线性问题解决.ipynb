{
 "cells": [
  {
   "cell_type": "markdown",
   "metadata": {},
   "source": [
    "### 支持向量机 SVR 解决非线性拟合问题\n",
    "\n",
    "\n",
    "\n"
   ]
  },
  {
   "cell_type": "code",
   "execution_count": null,
   "metadata": {},
   "outputs": [],
   "source": [
    "import numpy as np\n",
    "import matplotlib.pyplot as plt\n",
    "%matplotlib inline\n",
    "import seaborn as sns\n",
    "from sklearn.svm import SVR\n",
    "from sklearn.linear_model import LinearRegression\n",
    "sns.set_style(style=\"darkgrid\")"
   ]
  },
  {
   "cell_type": "code",
   "execution_count": 8,
   "metadata": {},
   "outputs": [
    {
     "data": {
      "text/plain": [
       "(30, 1)"
      ]
     },
     "execution_count": 8,
     "metadata": {},
     "output_type": "execute_result"
    }
   ],
   "source": [
    "X=np.linspace(-5,5,30).reshape(-1,1)\n",
    "X.shape"
   ]
  },
  {
   "cell_type": "code",
   "execution_count": 32,
   "metadata": {
    "collapsed": true
   },
   "outputs": [
    {
     "data": {
      "text/plain": [
       "array([[39.        ],\n",
       "       [34.63614744],\n",
       "       [30.51010702],\n",
       "       [26.62187872],\n",
       "       [22.97146254],\n",
       "       [19.5588585 ],\n",
       "       [16.38406659],\n",
       "       [13.4470868 ],\n",
       "       [10.74791914],\n",
       "       [ 8.28656361],\n",
       "       [ 6.06302021],\n",
       "       [ 4.07728894],\n",
       "       [ 2.3293698 ],\n",
       "       [ 0.81926278],\n",
       "       [-0.4530321 ],\n",
       "       [-1.48751486],\n",
       "       [-2.28418549],\n",
       "       [-2.843044  ],\n",
       "       [-3.16409037],\n",
       "       [-3.24732461],\n",
       "       [-3.09274673],\n",
       "       [-2.70035672],\n",
       "       [-2.07015458],\n",
       "       [-1.20214031],\n",
       "       [-0.09631391],\n",
       "       [ 1.24732461],\n",
       "       [ 2.82877527],\n",
       "       [ 4.64803805],\n",
       "       [ 6.70511296],\n",
       "       [ 9.        ]])"
      ]
     },
     "execution_count": 32,
     "metadata": {},
     "output_type": "execute_result"
    }
   ],
   "source": [
    "y=(X-3)**2+3*X-10\n",
    "y"
   ]
  },
  {
   "cell_type": "code",
   "execution_count": 33,
   "metadata": {
    "collapsed": true
   },
   "outputs": [
    {
     "data": {
      "text/plain": [
       "array([[35.        ],\n",
       "       [31.6706302 ],\n",
       "       [28.57907253],\n",
       "       [25.72532699],\n",
       "       [23.10939358],\n",
       "       [20.73127229],\n",
       "       [18.59096314],\n",
       "       [16.68846611],\n",
       "       [15.02378121],\n",
       "       [13.59690844],\n",
       "       [12.4078478 ],\n",
       "       [11.45659929],\n",
       "       [10.7431629 ],\n",
       "       [10.26753864],\n",
       "       [10.02972652],\n",
       "       [10.02972652],\n",
       "       [10.26753864],\n",
       "       [10.7431629 ],\n",
       "       [11.45659929],\n",
       "       [12.4078478 ],\n",
       "       [13.59690844],\n",
       "       [15.02378121],\n",
       "       [16.68846611],\n",
       "       [18.59096314],\n",
       "       [20.73127229],\n",
       "       [23.10939358],\n",
       "       [25.72532699],\n",
       "       [28.57907253],\n",
       "       [31.6706302 ],\n",
       "       [35.        ]])"
      ]
     },
     "execution_count": 33,
     "metadata": {},
     "output_type": "execute_result"
    }
   ],
   "source": [
    "y=(X)**2+10\n",
    "y"
   ]
  },
  {
   "cell_type": "code",
   "execution_count": 34,
   "metadata": {},
   "outputs": [],
   "source": [
    "x_test=np.linspace(-5,5,130).reshape(-1,1)"
   ]
  },
  {
   "cell_type": "code",
   "execution_count": 22,
   "metadata": {},
   "outputs": [
    {
     "data": {
      "text/plain": [
       "[<matplotlib.lines.Line2D at 0x190fe07a610>]"
      ]
     },
     "execution_count": 22,
     "metadata": {},
     "output_type": "execute_result"
    },
    {
     "data": {
      "image/png": "[encoded data removed]",
      "text/plain": [
       "<Figure size 432x288 with 1 Axes>"
      ]
     },
     "metadata": {},
     "output_type": "display_data"
    }
   ],
   "source": [
    "lr=LinearRegression()\n",
    "lr.fit(X,y)\n",
    "y_=lr.predict(x_test)\n",
    "plt.scatter(X,y,color=sns.color_palette(\"hls\",2)[0])\n",
    "plt.plot(x_test,y_,color=sns.color_palette(\"hls\",2)[1])"
   ]
  },
  {
   "cell_type": "code",
   "execution_count": 35,
   "metadata": {},
   "outputs": [
    {
     "name": "stderr",
     "output_type": "stream",
     "text": [
      "d:\\python\\venv(data_analysis)\\lib\\site-packages\\sklearn\\utils\\validation.py:63: DataConversionWarning: A column-vector y was passed when a 1d array was expected. Please change the shape of y to (n_samples, ), for example using ravel().\n",
      "  return f(*args, **kwargs)\n"
     ]
    },
    {
     "data": {
      "text/plain": [
       "[<matplotlib.lines.Line2D at 0x190ffc52490>]"
      ]
     },
     "execution_count": 35,
     "metadata": {},
     "output_type": "execute_result"
    },
    {
     "data": {
      "image/png": "[encoded data removed]",
      "text/plain": [
       "<Figure size 432x288 with 1 Axes>"
      ]
     },
     "metadata": {},
     "output_type": "display_data"
    }
   ],
   "source": [
    "\"\"\"\n",
    " {'linear', 'poly', 'rbf', 'sigmoid', 'precomputed'}\n",
    " degree 几次幂\n",
    "\"\"\"\n",
    "svr=SVR(kernel=\"poly\",degree=2)\n",
    "svr.fit(X,y)\n",
    "y_=svr.predict(x_test)\n",
    "plt.scatter(X,y,color=sns.color_palette(\"hls\",2)[0])\n",
    "plt.plot(x_test,y_,color=sns.color_palette(\"hls\",2)[1])"
   ]
  },
  {
   "cell_type": "code",
   "execution_count": 46,
   "metadata": {},
   "outputs": [],
   "source": [
    "X=np.linspace(-5,5,150).reshape(-1,1)\n",
    "y=(X-3)**2+3*X-15"
   ]
  },
  {
   "cell_type": "code",
   "execution_count": 45,
   "metadata": {},
   "outputs": [
    {
     "name": "stderr",
     "output_type": "stream",
     "text": [
      "d:\\python\\venv(data_analysis)\\lib\\site-packages\\sklearn\\utils\\validation.py:63: DataConversionWarning: A column-vector y was passed when a 1d array was expected. Please change the shape of y to (n_samples, ), for example using ravel().\n",
      "  return f(*args, **kwargs)\n"
     ]
    },
    {
     "data": {
      "text/plain": [
       "[<matplotlib.lines.Line2D at 0x190fff06550>]"
      ]
     },
     "execution_count": 45,
     "metadata": {},
     "output_type": "execute_result"
    },
    {
     "data": {
      "image/png": "[encoded data removed]",
      "text/plain": [
       "<Figure size 432x288 with 1 Axes>"
      ]
     },
     "metadata": {},
     "output_type": "display_data"
    }
   ],
   "source": [
    "x_test=np.linspace(-5,6,200).reshape(-1,1)\n",
    "svr=SVR(kernel=\"poly\",degree=2)\n",
    "svr.fit(X,y)\n",
    "y_=svr.predict(x_test)\n",
    "plt.scatter(X,y,color=sns.color_palette(\"hls\",2)[0])\n",
    "plt.plot(x_test,y_,color=sns.color_palette(\"hls\",2)[1])"
   ]
  },
  {
   "cell_type": "code",
   "execution_count": 64,
   "metadata": {},
   "outputs": [],
   "source": [
    "X=np.linspace(-5,10,50).reshape(-1,1)\n",
    "y=X**3+(X)**2+10+X"
   ]
  },
  {
   "cell_type": "code",
   "execution_count": 65,
   "metadata": {},
   "outputs": [
    {
     "name": "stderr",
     "output_type": "stream",
     "text": [
      "d:\\python\\venv(data_analysis)\\lib\\site-packages\\sklearn\\utils\\validation.py:63: DataConversionWarning: A column-vector y was passed when a 1d array was expected. Please change the shape of y to (n_samples, ), for example using ravel().\n",
      "  return f(*args, **kwargs)\n"
     ]
    },
    {
     "data": {
      "text/plain": [
       "[<matplotlib.lines.Line2D at 0x19083257a90>]"
      ]
     },
     "execution_count": 65,
     "metadata": {},
     "output_type": "execute_result"
    },
    {
     "data": {
      "image/png": "[encoded data removed]",
      "text/plain": [
       "<Figure size 432x288 with 1 Axes>"
      ]
     },
     "metadata": {},
     "output_type": "display_data"
    }
   ],
   "source": [
    "x_test=np.linspace(-5,10,150).reshape(-1,1)\n",
    "svr=SVR(kernel=\"poly\",degree=3)\n",
    "svr.fit(X,y)\n",
    "y_=svr.predict(x_test)\n",
    "plt.scatter(X,y,color=sns.color_palette(\"hls\",2)[1])\n",
    "plt.plot(x_test,y_,color=sns.color_palette(\"hls\",2)[0],lw=4)"
   ]
  },
  {
   "cell_type": "code",
   "execution_count": 90,
   "metadata": {},
   "outputs": [],
   "source": [
    "from sklearn.preprocessing import PolynomialFeatures # 将数据平方 次方 增加属性"
   ]
  },
  {
   "cell_type": "code",
   "execution_count": 92,
   "metadata": {},
   "outputs": [],
   "source": [
    "X=np.linspace(-5,10,50).reshape(-1,1)\n",
    "y=X**3+(X)**2+10+X\n",
    "x_test=np.linspace(-5,10,150).reshape(-1,1)"
   ]
  },
  {
   "cell_type": "code",
   "execution_count": 93,
   "metadata": {
    "collapsed": true
   },
   "outputs": [
    {
     "data": {
      "text/plain": [
       "array([[ 1.00000000e+00, -5.00000000e+00,  2.50000000e+01,\n",
       "        -1.25000000e+02],\n",
       "       [ 1.00000000e+00, -4.69387755e+00,  2.20324865e+01,\n",
       "        -1.03417794e+02],\n",
       "       [ 1.00000000e+00, -4.38775510e+00,  1.92523948e+01,\n",
       "        -8.44747937e+01],\n",
       "       [ 1.00000000e+00, -4.08163265e+00,  1.66597251e+01,\n",
       "        -6.79988780e+01],\n",
       "       [ 1.00000000e+00, -3.77551020e+00,  1.42544773e+01,\n",
       "        -5.38179245e+01],\n",
       "       [ 1.00000000e+00, -3.46938776e+00,  1.20366514e+01,\n",
       "        -4.17598110e+01],\n",
       "       [ 1.00000000e+00, -3.16326531e+00,  1.00062474e+01,\n",
       "        -3.16524152e+01],\n",
       "       [ 1.00000000e+00, -2.85714286e+00,  8.16326531e+00,\n",
       "        -2.33236152e+01],\n",
       "       [ 1.00000000e+00, -2.55102041e+00,  6.50770512e+00,\n",
       "        -1.66012886e+01],\n",
       "       [ 1.00000000e+00, -2.24489796e+00,  5.03956685e+00,\n",
       "        -1.13133133e+01],\n",
       "       [ 1.00000000e+00, -1.93877551e+00,  3.75885048e+00,\n",
       "        -7.28756726e+00],\n",
       "       [ 1.00000000e+00, -1.63265306e+00,  2.66555602e+00,\n",
       "        -4.35192819e+00],\n",
       "       [ 1.00000000e+00, -1.32653061e+00,  1.75968347e+00,\n",
       "        -2.33427398e+00],\n",
       "       [ 1.00000000e+00, -1.02040816e+00,  1.04123282e+00,\n",
       "        -1.06248247e+00],\n",
       "       [ 1.00000000e+00, -7.14285714e-01,  5.10204082e-01,\n",
       "        -3.64431487e-01],\n",
       "       [ 1.00000000e+00, -4.08163265e-01,  1.66597251e-01,\n",
       "        -6.79988780e-02],\n",
       "       [ 1.00000000e+00, -1.02040816e-01,  1.04123282e-02,\n",
       "        -1.06248247e-03],\n",
       "       [ 1.00000000e+00,  2.04081633e-01,  4.16493128e-02,\n",
       "         8.49985975e-03],\n",
       "       [ 1.00000000e+00,  5.10204082e-01,  2.60308205e-01,\n",
       "         1.32810309e-01],\n",
       "       [ 1.00000000e+00,  8.16326531e-01,  6.66389005e-01,\n",
       "         5.43991024e-01],\n",
       "       [ 1.00000000e+00,  1.12244898e+00,  1.25989171e+00,\n",
       "         1.41416417e+00],\n",
       "       [ 1.00000000e+00,  1.42857143e+00,  2.04081633e+00,\n",
       "         2.91545190e+00],\n",
       "       [ 1.00000000e+00,  1.73469388e+00,  3.00916285e+00,\n",
       "         5.21997637e+00],\n",
       "       [ 1.00000000e+00,  2.04081633e+00,  4.16493128e+00,\n",
       "         8.49985975e+00],\n",
       "       [ 1.00000000e+00,  2.34693878e+00,  5.50812162e+00,\n",
       "         1.29272242e+01],\n",
       "       [ 1.00000000e+00,  2.65306122e+00,  7.03873386e+00,\n",
       "         1.86741919e+01],\n",
       "       [ 1.00000000e+00,  2.95918367e+00,  8.75676801e+00,\n",
       "         2.59128849e+01],\n",
       "       [ 1.00000000e+00,  3.26530612e+00,  1.06622241e+01,\n",
       "         3.48154255e+01],\n",
       "       [ 1.00000000e+00,  3.57142857e+00,  1.27551020e+01,\n",
       "         4.55539359e+01],\n",
       "       [ 1.00000000e+00,  3.87755102e+00,  1.50354019e+01,\n",
       "         5.83005380e+01],\n",
       "       [ 1.00000000e+00,  4.18367347e+00,  1.75031237e+01,\n",
       "         7.32273542e+01],\n",
       "       [ 1.00000000e+00,  4.48979592e+00,  2.01582674e+01,\n",
       "         9.05065066e+01],\n",
       "       [ 1.00000000e+00,  4.79591837e+00,  2.30008330e+01,\n",
       "         1.10310117e+02],\n",
       "       [ 1.00000000e+00,  5.10204082e+00,  2.60308205e+01,\n",
       "         1.32810309e+02],\n",
       "       [ 1.00000000e+00,  5.40816327e+00,  2.92482299e+01,\n",
       "         1.58179203e+02],\n",
       "       [ 1.00000000e+00,  5.71428571e+00,  3.26530612e+01,\n",
       "         1.86588921e+02],\n",
       "       [ 1.00000000e+00,  6.02040816e+00,  3.62453145e+01,\n",
       "         2.18211587e+02],\n",
       "       [ 1.00000000e+00,  6.32653061e+00,  4.00249896e+01,\n",
       "         2.53219322e+02],\n",
       "       [ 1.00000000e+00,  6.63265306e+00,  4.39920866e+01,\n",
       "         2.91784248e+02],\n",
       "       [ 1.00000000e+00,  6.93877551e+00,  4.81466056e+01,\n",
       "         3.34078488e+02],\n",
       "       [ 1.00000000e+00,  7.24489796e+00,  5.24885464e+01,\n",
       "         3.80274163e+02],\n",
       "       [ 1.00000000e+00,  7.55102041e+00,  5.70179092e+01,\n",
       "         4.30543396e+02],\n",
       "       [ 1.00000000e+00,  7.85714286e+00,  6.17346939e+01,\n",
       "         4.85058309e+02],\n",
       "       [ 1.00000000e+00,  8.16326531e+00,  6.66389005e+01,\n",
       "         5.43991024e+02],\n",
       "       [ 1.00000000e+00,  8.46938776e+00,  7.17305289e+01,\n",
       "         6.07513664e+02],\n",
       "       [ 1.00000000e+00,  8.77551020e+00,  7.70095793e+01,\n",
       "         6.75798349e+02],\n",
       "       [ 1.00000000e+00,  9.08163265e+00,  8.24760516e+01,\n",
       "         7.49017204e+02],\n",
       "       [ 1.00000000e+00,  9.38775510e+00,  8.81299459e+01,\n",
       "         8.27342349e+02],\n",
       "       [ 1.00000000e+00,  9.69387755e+00,  9.39712620e+01,\n",
       "         9.10945907e+02],\n",
       "       [ 1.00000000e+00,  1.00000000e+01,  1.00000000e+02,\n",
       "         1.00000000e+03]])"
      ]
     },
     "execution_count": 93,
     "metadata": {},
     "output_type": "execute_result"
    }
   ],
   "source": [
    "poly=PolynomialFeatures(degree=3)\n",
    "X2=poly.fit_transform(X)\n",
    "X2"
   ]
  },
  {
   "cell_type": "code",
   "execution_count": 77,
   "metadata": {},
   "outputs": [
    {
     "data": {
      "text/plain": [
       "(50, 4)"
      ]
     },
     "execution_count": 77,
     "metadata": {},
     "output_type": "execute_result"
    }
   ],
   "source": [
    "X2.shape"
   ]
  },
  {
   "cell_type": "code",
   "execution_count": 95,
   "metadata": {},
   "outputs": [
    {
     "data": {
      "text/plain": [
       "[<matplotlib.lines.Line2D at 0x19085bd58e0>]"
      ]
     },
     "execution_count": 95,
     "metadata": {},
     "output_type": "execute_result"
    },
    {
     "data": {
      "image/png": "[encoded data removed]",
      "text/plain": [
       "<Figure size 432x288 with 1 Axes>"
      ]
     },
     "metadata": {},
     "output_type": "display_data"
    }
   ],
   "source": [
    "lr=LinearRegression()\n",
    "lr.fit(X2,y)\n",
    "x_test2=poly.fit_transform(x_test)\n",
    "y_=lr.predict(x_test2)\n",
    "plt.scatter(X,y,color=sns.color_palette(\"hls\",2)[1])\n",
    "plt.plot(x_test,y_,color=sns.color_palette(\"hls\",2)[0],lw=4)"
   ]
  },
  {
   "cell_type": "code",
   "execution_count": null,
   "metadata": {},
   "outputs": [],
   "source": []
  },
  {
   "cell_type": "code",
   "execution_count": null,
   "metadata": {},
   "outputs": [],
   "source": []
  },
  {
   "cell_type": "code",
   "execution_count": null,
   "metadata": {},
   "outputs": [],
   "source": []
  },
  {
   "cell_type": "code",
   "execution_count": 2,
   "metadata": {},
   "outputs": [],
   "source": []
  }
 ],
 "metadata": {
  "kernelspec": {
   "display_name": "Python 3",
   "language": "python",
   "name": "python3"
  },
  "language_info": {
   "codemirror_mode": {
    "name": "ipython",
    "version": 3
   },
   "file_extension": ".py",
   "mimetype": "text/x-python",
   "name": "python",
   "nbconvert_exporter": "python",
   "pygments_lexer": "ipython3",
   "version": "3.8.1"
  }
 },
 "nbformat": 4,
 "nbformat_minor": 2
}
