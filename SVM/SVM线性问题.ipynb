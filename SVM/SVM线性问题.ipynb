{
 "cells": [
  {
   "cell_type": "code",
   "execution_count": 3,
   "metadata": {},
   "outputs": [],
   "source": [
    "import numpy as np\n",
    "import matplotlib.pyplot as plt\n",
    "%matplotlib inline\n",
    "import seaborn as sns\n",
    "import sklearn.datasets as datasets\n",
    "from sklearn.svm import SVC\n",
    "sns.set_style(style=\"darkgrid\")"
   ]
  },
  {
   "cell_type": "code",
   "execution_count": 9,
   "metadata": {},
   "outputs": [
    {
     "data": {
      "text/plain": [
       "(50, 2)"
      ]
     },
     "execution_count": 9,
     "metadata": {},
     "output_type": "execute_result"
    }
   ],
   "source": [
    "X.shape"
   ]
  },
  {
   "cell_type": "code",
   "execution_count": 14,
   "metadata": {},
   "outputs": [
    {
     "data": {
      "text/plain": [
       "array([1, 1, 0, 0, 1, 1, 0, 1, 0, 1, 1, 1, 1, 0, 0, 1, 0, 1, 1, 0, 1, 0,\n",
       "       0, 1, 1, 1, 1, 0, 0, 1, 0, 0, 0, 0, 1, 0, 0, 1, 1, 0, 0, 1, 1, 0,\n",
       "       0, 1, 0, 0, 1, 0])"
      ]
     },
     "execution_count": 14,
     "metadata": {},
     "output_type": "execute_result"
    }
   ],
   "source": [
    "y"
   ]
  },
  {
   "cell_type": "code",
   "execution_count": 48,
   "metadata": {},
   "outputs": [
    {
     "data": {
      "text/plain": [
       "array([-4.80018592, -2.89515334, -0.52651865,  1.75568311, -2.84861451,\n",
       "       -2.58053893,  0.36805993, -5.43452221,  1.85432263, -3.26398973,\n",
       "       -3.17287671, -4.56357817, -3.99708282, -0.54833674, -0.8503994 ,\n",
       "       -4.93573622,  0.57571674, -5.62041822, -5.00923634,  1.57798209,\n",
       "       -5.16634796,  1.92857509,  1.12917878, -3.15679337, -3.98160803,\n",
       "       -4.70222459, -3.01521373,  1.57923748,  1.52281456, -3.81782828,\n",
       "        1.12207782,  0.86231331,  0.7272824 ,  1.94258518, -3.46108003,\n",
       "       -0.54908978,  1.9968582 , -1.63666093, -4.15279915,  2.89567316,\n",
       "        1.56247156, -2.78550643, -3.96935259,  1.73751204,  0.55315818,\n",
       "       -5.75198245,  0.67425085, -0.31396198, -2.9533818 ,  0.44892334])"
      ]
     },
     "execution_count": 48,
     "metadata": {},
     "output_type": "execute_result"
    }
   ],
   "source": [
    "X[:,0]"
   ]
  },
  {
   "cell_type": "code",
   "execution_count": 124,
   "metadata": {},
   "outputs": [
    {
     "data": {
      "text/plain": [
       "<AxesSubplot:>"
      ]
     },
     "execution_count": 124,
     "metadata": {},
     "output_type": "execute_result"
    },
    {
     "data": {
      "image/png": "[encoded data removed]",
      "text/plain": [
       "<Figure size 432x288 with 1 Axes>"
      ]
     },
     "metadata": {},
     "output_type": "display_data"
    }
   ],
   "source": [
    "X,y=datasets.make_blobs(n_samples=100,centers=2,n_features=2)\n",
    "\n",
    "sns.scatterplot(x=X[:,0],y=X[:,1],hue=y)"
   ]
  },
  {
   "cell_type": "code",
   "execution_count": 161,
   "metadata": {},
   "outputs": [
    {
     "data": {
      "text/plain": [
       "SVC(kernel='linear')"
      ]
     },
     "execution_count": 161,
     "metadata": {},
     "output_type": "execute_result"
    }
   ],
   "source": [
    "svc=SVC(kernel=\"linear\")\n",
    "svc.fit(X,y)"
   ]
  },
  {
   "cell_type": "code",
   "execution_count": 162,
   "metadata": {},
   "outputs": [],
   "source": [
    "w1,w2=svc.coef_[0]"
   ]
  },
  {
   "cell_type": "code",
   "execution_count": 163,
   "metadata": {},
   "outputs": [],
   "source": [
    "b=svc.intercept_[0]"
   ]
  },
  {
   "cell_type": "code",
   "execution_count": 114,
   "metadata": {},
   "outputs": [],
   "source": [
    "# f(X)=w1*x1+w2*x2+b\n"
   ]
  },
  {
   "cell_type": "code",
   "execution_count": 115,
   "metadata": {},
   "outputs": [
    {
     "data": {
      "text/plain": [
       "2.72527034569722"
      ]
     },
     "execution_count": 115,
     "metadata": {},
     "output_type": "execute_result"
    }
   ],
   "source": [
    "# X[0][0]*w1+X[0][1]*w2+b"
   ]
  },
  {
   "cell_type": "code",
   "execution_count": 116,
   "metadata": {},
   "outputs": [
    {
     "data": {
      "text/plain": [
       "-2.767213503693751"
      ]
     },
     "execution_count": 116,
     "metadata": {},
     "output_type": "execute_result"
    }
   ],
   "source": [
    "# X[5][0]*w1+X[5][1]*w2+b"
   ]
  },
  {
   "cell_type": "code",
   "execution_count": 92,
   "metadata": {
    "collapsed": true
   },
   "outputs": [
    {
     "data": {
      "text/plain": [
       "array([ 1.43229391, -1.79078595,  1.65540672, -1.65433512,  1.76516107,\n",
       "       -1.4113619 ,  1.4723642 , -2.04764342,  1.51952668,  2.22195998,\n",
       "        1.64387157, -1.84938085,  1.90453425, -2.45751227, -2.02209521,\n",
       "       -1.89021308, -2.28544145,  1.73980283,  1.56473912, -1.81716741,\n",
       "       -2.17170166, -1.71659644, -1.77258553, -1.9278682 , -1.17993461,\n",
       "       -1.35071645,  1.46237237, -2.19927783,  1.62599617, -2.08196482,\n",
       "       -1.08911381,  1.81617861,  1.00054266,  1.19306168, -1.19026815,\n",
       "       -1.78443695,  1.00028402,  1.69446227,  1.61151948, -1.0005679 ,\n",
       "        1.3604317 ,  1.0833937 ,  1.73547027,  1.83711403, -1.29307107,\n",
       "        2.86670688, -1.3686007 , -2.06087557, -2.46597038, -1.40722391,\n",
       "        1.00028402, -1.70242133, -1.73944576,  2.29281379,  2.2888186 ,\n",
       "       -1.77255388, -1.45688448, -1.42709431,  1.39238347,  2.04081831,\n",
       "        1.52193853, -1.26720147,  1.29070145,  1.80729526, -1.38559304,\n",
       "       -1.75732161, -2.20072178,  1.17025488, -2.23529246,  2.00514609,\n",
       "        1.5164648 ,  1.43600883,  2.17476254,  1.98688036,  2.30715724,\n",
       "        1.52784724,  1.19137467, -1.87992885, -2.11613409,  1.98518998,\n",
       "       -1.48892665,  1.94505873,  1.39287486, -1.87723443, -1.74579181,\n",
       "       -1.54374842,  1.67313401,  1.78865772,  1.25027468, -2.07899305,\n",
       "       -1.8261181 , -1.52218413,  1.36814887, -1.19252905, -2.05509646,\n",
       "        1.77770057, -1.83025298,  1.47481331,  1.33085958, -2.25368073])"
      ]
     },
     "execution_count": 92,
     "metadata": {},
     "output_type": "execute_result"
    }
   ],
   "source": [
    "# X[:,0]*w1+X[:,1]*w2+b"
   ]
  },
  {
   "cell_type": "code",
   "execution_count": 164,
   "metadata": {},
   "outputs": [],
   "source": [
    "# w1*x1+w2*x2+b=0\n",
    "# w1*x+w2*y+b=0\n",
    "# y=-(b/w2)-(w1/w2)*x\n",
    "\n",
    "w_=-w1/w2\n",
    "b_=-b/w2\n"
   ]
  },
  {
   "cell_type": "code",
   "execution_count": 165,
   "metadata": {},
   "outputs": [
    {
     "data": {
      "text/plain": [
       "array([[3.39019295, 5.78316176],\n",
       "       [5.17068831, 2.91404859],\n",
       "       [6.03853696, 3.93926846]])"
      ]
     },
     "execution_count": 165,
     "metadata": {},
     "output_type": "execute_result"
    }
   ],
   "source": [
    "support_vectors_= svc.support_vectors_\n",
    "support_vectors_"
   ]
  },
  {
   "cell_type": "code",
   "execution_count": 166,
   "metadata": {},
   "outputs": [
    {
     "data": {
      "text/plain": [
       "array([3.39019295, 5.17068831, 6.03853696])"
      ]
     },
     "execution_count": 166,
     "metadata": {},
     "output_type": "execute_result"
    }
   ],
   "source": [
    "support_vectors_[:,0]"
   ]
  },
  {
   "cell_type": "code",
   "execution_count": 157,
   "metadata": {},
   "outputs": [],
   "source": [
    "# w1*x+w2*y+b=1\n",
    "# w1*x+w2*y+b=-1\n",
    "# y1=(1/w2)-(w1/w2)*x-(b/w2)\n",
    "# y2=(-1/w2)-(w1/w2)*x-(b/w2)"
   ]
  },
  {
   "cell_type": "code",
   "execution_count": 167,
   "metadata": {},
   "outputs": [],
   "source": [
    "w1_=-w1/w2\n",
    "w2_=-w1/w2\n",
    "b1_=-(b/w2)+(1/w2)\n",
    "b2_=-(b/w2)+(-1/w2)"
   ]
  },
  {
   "cell_type": "code",
   "execution_count": 175,
   "metadata": {},
   "outputs": [
    {
     "data": {
      "text/plain": [
       "<matplotlib.collections.PathCollection at 0x236259a1400>"
      ]
     },
     "execution_count": 175,
     "metadata": {},
     "output_type": "execute_result"
    },
    {
     "data": {
      "image/png": "[encoded data removed]",
      "text/plain": [
       "<Figure size 432x288 with 1 Axes>"
      ]
     },
     "metadata": {},
     "output_type": "display_data"
    }
   ],
   "source": [
    "x=np.linspace(0,10,100)\n",
    "\n",
    "sns.scatterplot(x=X[:,0],y=X[:,1],hue=y)\n",
    "# plt.axis([0,10,-1,10])\n",
    "sns.lineplot(x=x,y=x*w_+b_,palette=sns.color_palette(\"hls\",3)[0])\n",
    "sns.lineplot(x=x,y=x*w1_+b1_,palette=sns.color_palette(\"hls\",3)[1],ls=\"--\")\n",
    "sns.lineplot(x=x,y=x*w2_+b2_,palette=sns.color_palette(\"hls\",3)[2],ls=\"--\")\n",
    "\n",
    "plt.scatter(support_vectors_[:,0],support_vectors_[:,1],color='red',s=100,alpha=0.3)"
   ]
  },
  {
   "cell_type": "code",
   "execution_count": null,
   "metadata": {},
   "outputs": [],
   "source": []
  }
 ],
 "metadata": {
  "kernelspec": {
   "display_name": "Python 3",
   "language": "python",
   "name": "python3"
  },
  "language_info": {
   "codemirror_mode": {
    "name": "ipython",
    "version": 3
   },
   "file_extension": ".py",
   "mimetype": "text/x-python",
   "name": "python",
   "nbconvert_exporter": "python",
   "pygments_lexer": "ipython3",
   "version": "3.8.1"
  }
 },
 "nbformat": 4,
 "nbformat_minor": 2
}
